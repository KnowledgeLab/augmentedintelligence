{
 "cells": [
  {
   "cell_type": "markdown",
   "metadata": {
    "deletable": true,
    "editable": true
   },
   "source": [
    "# Week 1 - Retreiving and Preparing Text for Machines\n",
    "\n",
    "This week, we begin by \"begging, borrowing and stealing\" text from several\n",
    "contexts of human communication (e.g., PDFs, HTML, Word) and preparing it for\n",
    "machines to \"read\" and analyze. This notebook outlines scraping text from the\n",
    "web, from images, PDF and Word documents. Then we detail \"spidering\" or walking\n",
    "through hyperlinks to build samples of online content, and using APIs,\n",
    "Application Programming Interfaces, provided by webservices to access their\n",
    "content. Along the way, we will use regular expressions, outlined in the\n",
    "reading, to remove unwanted formatting and ornamentation. Finally, we discuss\n",
    "various text encodings, filtering and data structures in which text can be\n",
    "placed for analysis.\n",
    "\n",
    "For this notebook we will be using the following packages:"
   ]
  },
  {
   "cell_type": "code",
   "execution_count": 1,
   "metadata": {
    "collapsed": true,
    "deletable": true,
    "editable": true
   },
   "outputs": [],
   "source": [
    "#All these packages need to be installed from pip\n",
    "import requests #for http requests\n",
    "import bs4 #called `beautifulsoup4`, an html parser\n",
    "import pandas #gives us DataFrames\n",
    "import docx #reading MS doc files, install as `python-docx`\n",
    "import PIL.Image #called `pillow`, an image processing library\n",
    "import pytesseract #an interface to Tesseract, you will need Tesseract\n",
    "import praw #For getting the reddit data\n",
    "import nltk #The Natural Language Toolkit, for dealing with text\n",
    "import numpy as np #Gives us arrays and some other nice math tools\n",
    "import matplotlib.pyplot as plt #Makes plots\n",
    "import seaborn #Makes the plots look nice\n",
    "\n",
    "#install as `scikit-learn`, provides a large collection of Machine learning tools\n",
    "#Each should be imported seperatly\n",
    "import sklearn\n",
    "import sklearn.feature_extraction\n",
    "import sklearn.linear_model\n",
    "import sklearn.ensemble\n",
    "import sklearn.tree\n",
    "import sklearn.linear_model\n",
    "import sklearn.metrics\n",
    "\n",
    "#Stuff for pdfs\n",
    "#Install as `pdfminer2`\n",
    "import pdfminer.pdfinterp\n",
    "import pdfminer.converter\n",
    "import pdfminer.layout\n",
    "import pdfminer.pdfpage\n",
    "\n",
    "#These come with Python\n",
    "import re #for regexs\n",
    "import urllib.parse #For joining urls\n",
    "import io #for making http requests look like files\n",
    "import json #For Tumblr API responses\n",
    "import os.path #For checking if files exist\n",
    "import os #For making directories\n",
    "import json #For loading the reddit account data"
   ]
  },
  {
   "cell_type": "markdown",
   "metadata": {
    "deletable": true,
    "editable": true
   },
   "source": [
    "We will also be working on the following files/urls"
   ]
  },
  {
   "cell_type": "code",
   "execution_count": 2,
   "metadata": {
    "collapsed": true,
    "deletable": true,
    "editable": true
   },
   "outputs": [],
   "source": [
    "wikipedia_base_url = 'https://en.wikipedia.org'\n",
    "wikipedia_intelligence_amplification = 'https://en.wikipedia.org/wiki/Intelligence_amplification'\n",
    "intelligence_amplification_save = 'data/intelligence_amplification_analysis.html'\n",
    "example_text_file = 'sometextfile.txt'\n",
    "information_extraction_pdf = 'https://github.com/KnowledgeLab/content_analysis/raw/data/21.pdf'\n",
    "example_docx = 'https://github.com/KnowledgeLab/content_analysis/raw/data/example_doc.docx'\n",
    "example_docx_save = 'data/example.docx'\n",
    "ocr_file = 'data/tesseractTest.png'"
   ]
  },
  {
   "cell_type": "markdown",
   "metadata": {
    "deletable": true,
    "editable": true
   },
   "source": [
    "# Scraping\n",
    "\n",
    "Before we can start analyzing content we need to obtain it. Sometimes it will be\n",
    "provided to us from a pre-curated text archive, but sometimes we will need to\n",
    "download it. As a starting example we will attempt to download the wikipedia\n",
    "page on content analysis. The page is located at [https://en.wikipedia.org/wiki/Intelligence_amplification](https://en.wikipedia.org/wiki/Intelligence_amplification) so lets start\n",
    "with that.\n",
    "\n",
    "We can do this by making an HTTP GET request to that url, a GET request is\n",
    "simply a request to the server to provide the contents given by some url. The\n",
    "other request we will be using in this class is called a POST request and\n",
    "requests the server to take some content we provide. While the Python standard\n",
    "library does have the ability do make GET requests we will be using the\n",
    "[_requests_](http://docs.python-requests.org/en/master/) package as it is _'the\n",
    "only Non-GMO HTTP library for Python'_...also it provides a nicer interface."
   ]
  },
  {
   "cell_type": "code",
   "execution_count": 3,
   "metadata": {
    "collapsed": false,
    "deletable": true,
    "editable": true
   },
   "outputs": [
    {
     "data": {
      "text/plain": [
       "<Response [200]>"
      ]
     },
     "execution_count": 3,
     "metadata": {},
     "output_type": "execute_result"
    }
   ],
   "source": [
    "wikipedia_intelligence_amplification = 'https://en.wikipedia.org/wiki/Intelligence_amplification'\n",
    "requests.get(wikipedia_intelligence_amplification)"
   ]
  },
  {
   "cell_type": "markdown",
   "metadata": {
    "deletable": true,
    "editable": true
   },
   "source": [
    "`'Response [200]'` means the server responded with what we asked for. If you get\n",
    "another number (e.g. 404) it likely means there was some kind of error, these\n",
    "codes are called HTTP response codes and a list of them can be found\n",
    "[here](https://en.wikipedia.org/wiki/List_of_HTTP_status_codes). The response\n",
    "object contains all the data the server sent including the website's contents\n",
    "and the HTTP header. We are interested in the contents which we can access with\n",
    "the `.text` attribute."
   ]
  },
  {
   "cell_type": "code",
   "execution_count": 4,
   "metadata": {
    "collapsed": false,
    "deletable": true,
    "editable": true
   },
   "outputs": [
    {
     "name": "stdout",
     "output_type": "stream",
     "text": [
      "<!DOCTYPE html>\n",
      "<html class=\"client-nojs\" lang=\"en\" dir=\"ltr\">\n",
      "<head>\n",
      "<meta charset=\"UTF-8\"/>\n",
      "<title>Intelligence amplification - Wikipedia</title>\n",
      "<script>document.documentElement.className = document.documentElement.className.replace( /(^|\\s)client-nojs(\\s|$)/, \"$1client-js$2\" );</script>\n",
      "<script>(window.RLQ=window.RLQ||[]).push(function(){mw.config.set({\"wgCanonicalNamespace\":\"\",\"wgCanonicalSpecialPageName\":false,\"wgNamespaceNumber\":0,\"wgPageName\":\"Intelligence_amplification\",\"wgTitle\":\"Intelligence amplification\",\"wgCurRevisionId\":731793777,\"wgRevisionId\":731793777,\"wgArticleId\":3948917,\"wgIsArticle\":true,\"wgIsRedirect\":false,\"wgAction\":\"view\",\"wgUserName\":null,\"wgUserGroups\":[\"*\"],\"wgCategories\":[\"History of human–computer interaction\",\"Cybernetics\",\"Biocybernetics\",\"Transhumanism\",\"Texts related to the history of the Internet\"],\"wgBreakFrames\":false,\"wgPageContentLanguage\":\"en\",\"wgPageContentModel\":\"wikitext\",\"wgSeparatorTransformTable\":[\"\",\"\"],\"wgDigitTransformTable\":[\"\",\"\"],\"wg\n"
     ]
    }
   ],
   "source": [
    "wikiIntRequest = requests.get(wikipedia_intelligence_amplification)\n",
    "print(wikiIntRequest.text[:1000])"
   ]
  },
  {
   "cell_type": "markdown",
   "metadata": {
    "deletable": true,
    "editable": true
   },
   "source": [
    "This is not what we were looking for, because it is the start of the HTML that\n",
    "makes up the website. This is HTML and is meant to be read by computers. Luckily\n",
    "we have a computer to parse it for us. To do the parsing we will use [_Beautiful\n",
    "Soup_](https://www.crummy.com/software/BeautifulSoup/) which is a better parser\n",
    "than the one in the standard library."
   ]
  },
  {
   "cell_type": "code",
   "execution_count": 5,
   "metadata": {
    "collapsed": false,
    "deletable": true,
    "editable": true
   },
   "outputs": [
    {
     "name": "stdout",
     "output_type": "stream",
     "text": [
      "\n",
      "\n",
      "\n",
      "\n",
      "Intelligence amplification - Wikipedia\n",
      "document.documentElement.className = document.documentElement.className.replace( /(^|\\s)client-nojs(\\s|$)/, \"$1client-js$2\" );\n",
      "(window.RLQ=window.RLQ||[]).pu\n"
     ]
    }
   ],
   "source": [
    "wikiIntSoup = bs4.BeautifulSoup(wikiIntRequest.text, 'html.parser')\n",
    "print(wikiIntSoup.text[:200])"
   ]
  },
  {
   "cell_type": "markdown",
   "metadata": {
    "deletable": true,
    "editable": true
   },
   "source": [
    "This is better but there's still random whitespace and we have more than just\n",
    "the text of the article. This is because what we requested is the whole webpage,\n",
    "not just the text for the article.\n",
    "\n",
    "We want to extract only the text we care about, and in order to do this we will\n",
    "need to inspect the html. One way to do this is simply to go to the website with\n",
    "a browser and use its inspection or view source tool. If javascript or other\n",
    "dynamic loading occurs on the page, however, it is likely that what Python\n",
    "receives is not what you will see, so we will need to inspect what Python\n",
    "receives. To do this we can save the html `requests` obtained."
   ]
  },
  {
   "cell_type": "code",
   "execution_count": 6,
   "metadata": {
    "collapsed": true,
    "deletable": true,
    "editable": true
   },
   "outputs": [],
   "source": [
    "#intelligence_amplification_save = 'data/intelligence_amplification_analysis.html'\n",
    "\n",
    "with open(intelligence_amplification_save, mode='w', encoding='utf-8') as f:\n",
    "    f.write(wikiIntRequest.text)"
   ]
  },
  {
   "cell_type": "markdown",
   "metadata": {
    "deletable": true,
    "editable": true
   },
   "source": [
    "Now lets open the file (`data/intelligence_amplification_analysis.html`) we just created with\n",
    "a web browser. It should look sort of like the original but without the images\n",
    "and formatting.\n",
    "\n",
    "As there is very little standardization on structuring webpages, figuring out\n",
    "how best to extract what you want is an art. Looking at this page it looks like\n",
    "all the main textual content is inside `<p>`(paragraph) tags within the `<body>`\n",
    "tag."
   ]
  },
  {
   "cell_type": "code",
   "execution_count": 7,
   "metadata": {
    "collapsed": false,
    "deletable": true,
    "editable": true
   },
   "outputs": [
    {
     "name": "stdout",
     "output_type": "stream",
     "text": [
      "Intelligence amplification (IA) (also referred to as cognitive augmentation and machine augmented intelligence) refers to the effective use of information technology in augmenting human intelligence. The idea was first proposed in the 1950s and 1960s by cybernetics and early computer pioneers.\n",
      "IA is sometimes contrasted with AI (artificial intelligence), that is, the project of building a human-like intelligence in the form of an autonomous technological system such as a computer or robot. AI has encountered many fundamental obstacles, practical as well as theoretical, which for IA seem moot, as it needs technology merely as an extra support for an autonomous intelligence that has already proven to function. Moreover, IA has a long history of success, since all forms of information technology, from the abacus to writing to the Internet, have been developed basically to extend the information processing capabilities of the human mind (see extended mind and distributed cognition).\n",
      "\n"
     ]
    }
   ],
   "source": [
    "intPTags = wikiIntSoup.body.findAll('p')\n",
    "for pTag in intPTags[:3]:\n",
    "    print(pTag.text)"
   ]
  },
  {
   "cell_type": "markdown",
   "metadata": {
    "deletable": true,
    "editable": true
   },
   "source": [
    "We now have all the text from the page, split up by paragraph. If we wanted to\n",
    "get the section headers or references as well it would require a bit more work,\n",
    "but is doable.\n",
    "\n",
    "There is one more thing we might want to do before sending this text to be\n",
    "processed, remove the references indicators (`[2]`, `[3]` , etc). To do this we\n",
    "can use a short regular expression (regex)."
   ]
  },
  {
   "cell_type": "code",
   "execution_count": 8,
   "metadata": {
    "collapsed": false,
    "deletable": true,
    "editable": true
   },
   "outputs": [
    {
     "name": "stdout",
     "output_type": "stream",
     "text": [
      "                                       paragraph-text\n",
      "0   Intelligence amplification (IA) (also referred...\n",
      "1   IA is sometimes contrasted with AI (artificial...\n",
      "2                                                    \n",
      "3                                                    \n",
      "4   The term intelligence amplification (IA) has e...\n",
      "5   ..\"problem solving\" is largely, perhaps entire...\n",
      "6   It is also clear that many of the tests used f...\n",
      "7   If this is so, and as we know that power of se...\n",
      "8   \"Man-Computer Symbiosis\" is a key speculative ...\n",
      "9   Man-computer symbiosis is a subclass of man-ma...\n",
      "10  In Licklider's vision, many of the pure artifi...\n",
      "11  Licklider's research was similar in spirit to ...\n",
      "12  Engelbart reasoned that the state of our curre...\n",
      "13  \"Increasing the capability of a man to approac...\n",
      "14  Increased capability in this respect is taken ...\n",
      "15  We do not speak of isolated clever tricks that...\n",
      "16  Engelbart subsequently implemented these conce...\n"
     ]
    }
   ],
   "source": [
    "intParagraphs = []\n",
    "for pTag in intPTags:\n",
    "    #strings starting with r are raw so their \\'s are not modifier characters\n",
    "    #If we didn't start with r the string would be: '\\\\[\\\\d+\\\\]'\n",
    "    intParagraphs.append(re.sub(r'\\[\\d+\\]', '', pTag.text))\n",
    "\n",
    "#convert to a DataFrame\n",
    "intParagraphsDF = pandas.DataFrame({'paragraph-text' : intParagraphs})\n",
    "print(intParagraphsDF)"
   ]
  },
  {
   "cell_type": "markdown",
   "metadata": {
    "deletable": true,
    "editable": true
   },
   "source": [
    "Now we have a `DataFrame` containing all relevant text from the page ready to be\n",
    "processed\n",
    "\n",
    "If you are not familiar with regex, it is a way of specifying searches in text.\n",
    "A regex engine takes in the search pattern, in the above case `'\\[\\d+\\]'` and\n",
    "some string, the paragraph texts. Then it reads the input string one character\n",
    "at a time checking if it matches the search. Here the regex `'\\d'` matches\n",
    "number characters (while `'\\['` and `'\\]'` capture the braces on either side)."
   ]
  },
  {
   "cell_type": "code",
   "execution_count": 9,
   "metadata": {
    "collapsed": false,
    "deletable": true,
    "editable": true
   },
   "outputs": [
    {
     "data": {
      "text/plain": [
       "<_sre.SRE_Match object; span=(36, 37), match='2'>"
      ]
     },
     "execution_count": 9,
     "metadata": {},
     "output_type": "execute_result"
    }
   ],
   "source": [
    "findNumber = r'\\d'\n",
    "regexResults = re.search(findNumber, 'not a number, not a number, numbers 2134567890, not a number')\n",
    "regexResults"
   ]
  },
  {
   "cell_type": "markdown",
   "metadata": {
    "deletable": true,
    "editable": true
   },
   "source": [
    "In Python the regex package (`re`) usually returns `Match` objects (you can have\n",
    "multiple pattern hits in a a single `Match`), to get the string that matched our\n",
    "pattern we can use the `.group()` method, and as we want the first one we will\n",
    "ask for the 0'th group."
   ]
  },
  {
   "cell_type": "code",
   "execution_count": 10,
   "metadata": {
    "collapsed": false,
    "deletable": true,
    "editable": true
   },
   "outputs": [
    {
     "name": "stdout",
     "output_type": "stream",
     "text": [
      "2\n"
     ]
    }
   ],
   "source": [
    "print(regexResults.group(0))"
   ]
  },
  {
   "cell_type": "markdown",
   "metadata": {
    "deletable": true,
    "editable": true
   },
   "source": [
    "That gives us the first number, if we wanted the whole block of numbers we can\n",
    "add a wildcard `'+'` which requests 1 or more instances of the preceding\n",
    "character."
   ]
  },
  {
   "cell_type": "code",
   "execution_count": 11,
   "metadata": {
    "collapsed": false,
    "deletable": true,
    "editable": true
   },
   "outputs": [
    {
     "name": "stdout",
     "output_type": "stream",
     "text": [
      "2134567890\n"
     ]
    }
   ],
   "source": [
    "findNumbers = r'\\d+'\n",
    "regexResults = re.search(findNumbers, 'not a number, not a number, numbers 2134567890, not a number')\n",
    "print(regexResults.group(0))"
   ]
  },
  {
   "cell_type": "markdown",
   "metadata": {
    "deletable": true,
    "editable": true
   },
   "source": [
    "Now we have the whole block of numbers, there are a huge number of special\n",
    "characters in regex, for the full description of Python's implementation look at\n",
    "the [re docs](https://docs.python.org/3/library/re.html) there is also a short\n",
    "[tutorial](https://docs.python.org/3/howto/regex.html#regex-howto)."
   ]
  },
  {
   "cell_type": "markdown",
   "metadata": {
    "deletable": true,
    "editable": true
   },
   "source": [
    "# Spidering\n",
    "\n",
    "What if we want to to get a bunch of different pages from wikipedia. We would\n",
    "need to get the url for each of the pages we want. Typically, we want pages that\n",
    "are linked to by other pages and so we will need to parse pages and identify the\n",
    "links. Right now we will be retrieving all links in the body of the content\n",
    "analysis page.\n",
    "\n",
    "To do this we will need to find all the `<a>` (anchor) tags with `href`s\n",
    "(hyperlink references) inside of `<p>` tags. `href` can have many\n",
    "[different](http://stackoverflow.com/questions/4855168/what-is-href-and-why-is-\n",
    "it-used) [forms](https://en.wikipedia.org/wiki/Hyperlink#Hyperlinks_in_HTML) so\n",
    "dealing with them can be tricky, but generally, you will want to extract\n",
    "absolute or relative links. An absolute link is one you can follow without\n",
    "modification, while a relative link requires a base url that you will then\n",
    "append. Wikipedia uses relative urls for its internal links: below is an example\n",
    "for dealing with them."
   ]
  },
  {
   "cell_type": "code",
   "execution_count": 12,
   "metadata": {
    "collapsed": false,
    "deletable": true,
    "editable": true
   },
   "outputs": [
    {
     "name": "stdout",
     "output_type": "stream",
     "text": [
      "[('https://en.wikipedia.org/wiki/Information_technology', 0, 'information technology'), ('https://en.wikipedia.org/wiki/Intelligence#Human_intelligence', 0, 'human intelligence'), ('https://en.wikipedia.org/wiki/Cybernetics', 0, 'cybernetics'), ('https://en.wikipedia.org/wiki/Artificial_intelligence', 1, 'artificial intelligence'), ('https://en.wikipedia.org/wiki/Information_processing', 1, 'information processing'), ('https://en.wikipedia.org/wiki/Distributed_cognition', 1, 'distributed cognition'), ('https://en.wikipedia.org/wiki/Hao_Wang_(academic)', 4, 'Hao Wang'), ('https://en.wikipedia.org/wiki/Automated_theorem_proving', 4, 'automatic theorem provers'), ('https://en.wikipedia.org/wiki/Problem_solving', 5, 'problem solving'), ('https://en.wikipedia.org/wiki/Black_box', 6, 'Black Box')]\n"
     ]
    }
   ],
   "source": [
    "#wikipedia_base_url = 'https://en.wikipedia.org'\n",
    "\n",
    "otherPAgeURLS = []\n",
    "#We also want to know where the links come from so we also will get:\n",
    "#the paragraph number\n",
    "#the word the link is in\n",
    "for paragraphNum, pTag in enumerate(intPTags):\n",
    "    #we only want hrefs that link to wiki pages\n",
    "    tagLinks = pTag.findAll('a', href=re.compile('/wiki/'), class_=False)\n",
    "    for aTag in tagLinks:\n",
    "        #We need to extract the url from the <a> tag\n",
    "        relurl = aTag.get('href')\n",
    "        linkText = aTag.text\n",
    "        #wikipedia_base_url is the base we can use the urllib joining function to merge them\n",
    "        #Giving a nice structured tupe like this means we can use tuple expansion later\n",
    "        otherPAgeURLS.append((\n",
    "            urllib.parse.urljoin(wikipedia_base_url, relurl),\n",
    "            paragraphNum,\n",
    "            linkText,\n",
    "        ))\n",
    "print(otherPAgeURLS[:10])"
   ]
  },
  {
   "cell_type": "markdown",
   "metadata": {
    "deletable": true,
    "editable": true
   },
   "source": [
    "We will be adding these new texts to our DataFrame `contentParagraphsDF` so we\n",
    "will need to add 2 more columns to keep track of paragraph numbers and sources."
   ]
  },
  {
   "cell_type": "code",
   "execution_count": 13,
   "metadata": {
    "collapsed": false,
    "deletable": true,
    "editable": true
   },
   "outputs": [
    {
     "data": {
      "text/html": [
       "<div>\n",
       "<table border=\"1\" class=\"dataframe\">\n",
       "  <thead>\n",
       "    <tr style=\"text-align: right;\">\n",
       "      <th></th>\n",
       "      <th>paragraph-text</th>\n",
       "      <th>source</th>\n",
       "      <th>paragraph-number</th>\n",
       "    </tr>\n",
       "  </thead>\n",
       "  <tbody>\n",
       "    <tr>\n",
       "      <th>0</th>\n",
       "      <td>Intelligence amplification (IA) (also referred...</td>\n",
       "      <td>https://en.wikipedia.org/wiki/Intelligence_amp...</td>\n",
       "      <td>0</td>\n",
       "    </tr>\n",
       "    <tr>\n",
       "      <th>1</th>\n",
       "      <td>IA is sometimes contrasted with AI (artificial...</td>\n",
       "      <td>https://en.wikipedia.org/wiki/Intelligence_amp...</td>\n",
       "      <td>1</td>\n",
       "    </tr>\n",
       "    <tr>\n",
       "      <th>2</th>\n",
       "      <td></td>\n",
       "      <td>https://en.wikipedia.org/wiki/Intelligence_amp...</td>\n",
       "      <td>2</td>\n",
       "    </tr>\n",
       "    <tr>\n",
       "      <th>3</th>\n",
       "      <td></td>\n",
       "      <td>https://en.wikipedia.org/wiki/Intelligence_amp...</td>\n",
       "      <td>3</td>\n",
       "    </tr>\n",
       "    <tr>\n",
       "      <th>4</th>\n",
       "      <td>The term intelligence amplification (IA) has e...</td>\n",
       "      <td>https://en.wikipedia.org/wiki/Intelligence_amp...</td>\n",
       "      <td>4</td>\n",
       "    </tr>\n",
       "    <tr>\n",
       "      <th>5</th>\n",
       "      <td>..\"problem solving\" is largely, perhaps entire...</td>\n",
       "      <td>https://en.wikipedia.org/wiki/Intelligence_amp...</td>\n",
       "      <td>5</td>\n",
       "    </tr>\n",
       "    <tr>\n",
       "      <th>6</th>\n",
       "      <td>It is also clear that many of the tests used f...</td>\n",
       "      <td>https://en.wikipedia.org/wiki/Intelligence_amp...</td>\n",
       "      <td>6</td>\n",
       "    </tr>\n",
       "    <tr>\n",
       "      <th>7</th>\n",
       "      <td>If this is so, and as we know that power of se...</td>\n",
       "      <td>https://en.wikipedia.org/wiki/Intelligence_amp...</td>\n",
       "      <td>7</td>\n",
       "    </tr>\n",
       "    <tr>\n",
       "      <th>8</th>\n",
       "      <td>\"Man-Computer Symbiosis\" is a key speculative ...</td>\n",
       "      <td>https://en.wikipedia.org/wiki/Intelligence_amp...</td>\n",
       "      <td>8</td>\n",
       "    </tr>\n",
       "    <tr>\n",
       "      <th>9</th>\n",
       "      <td>Man-computer symbiosis is a subclass of man-ma...</td>\n",
       "      <td>https://en.wikipedia.org/wiki/Intelligence_amp...</td>\n",
       "      <td>9</td>\n",
       "    </tr>\n",
       "    <tr>\n",
       "      <th>10</th>\n",
       "      <td>In Licklider's vision, many of the pure artifi...</td>\n",
       "      <td>https://en.wikipedia.org/wiki/Intelligence_amp...</td>\n",
       "      <td>10</td>\n",
       "    </tr>\n",
       "    <tr>\n",
       "      <th>11</th>\n",
       "      <td>Licklider's research was similar in spirit to ...</td>\n",
       "      <td>https://en.wikipedia.org/wiki/Intelligence_amp...</td>\n",
       "      <td>11</td>\n",
       "    </tr>\n",
       "    <tr>\n",
       "      <th>12</th>\n",
       "      <td>Engelbart reasoned that the state of our curre...</td>\n",
       "      <td>https://en.wikipedia.org/wiki/Intelligence_amp...</td>\n",
       "      <td>12</td>\n",
       "    </tr>\n",
       "    <tr>\n",
       "      <th>13</th>\n",
       "      <td>\"Increasing the capability of a man to approac...</td>\n",
       "      <td>https://en.wikipedia.org/wiki/Intelligence_amp...</td>\n",
       "      <td>13</td>\n",
       "    </tr>\n",
       "    <tr>\n",
       "      <th>14</th>\n",
       "      <td>Increased capability in this respect is taken ...</td>\n",
       "      <td>https://en.wikipedia.org/wiki/Intelligence_amp...</td>\n",
       "      <td>14</td>\n",
       "    </tr>\n",
       "    <tr>\n",
       "      <th>15</th>\n",
       "      <td>We do not speak of isolated clever tricks that...</td>\n",
       "      <td>https://en.wikipedia.org/wiki/Intelligence_amp...</td>\n",
       "      <td>15</td>\n",
       "    </tr>\n",
       "    <tr>\n",
       "      <th>16</th>\n",
       "      <td>Engelbart subsequently implemented these conce...</td>\n",
       "      <td>https://en.wikipedia.org/wiki/Intelligence_amp...</td>\n",
       "      <td>16</td>\n",
       "    </tr>\n",
       "  </tbody>\n",
       "</table>\n",
       "</div>"
      ],
      "text/plain": [
       "                                       paragraph-text  \\\n",
       "0   Intelligence amplification (IA) (also referred...   \n",
       "1   IA is sometimes contrasted with AI (artificial...   \n",
       "2                                                       \n",
       "3                                                       \n",
       "4   The term intelligence amplification (IA) has e...   \n",
       "5   ..\"problem solving\" is largely, perhaps entire...   \n",
       "6   It is also clear that many of the tests used f...   \n",
       "7   If this is so, and as we know that power of se...   \n",
       "8   \"Man-Computer Symbiosis\" is a key speculative ...   \n",
       "9   Man-computer symbiosis is a subclass of man-ma...   \n",
       "10  In Licklider's vision, many of the pure artifi...   \n",
       "11  Licklider's research was similar in spirit to ...   \n",
       "12  Engelbart reasoned that the state of our curre...   \n",
       "13  \"Increasing the capability of a man to approac...   \n",
       "14  Increased capability in this respect is taken ...   \n",
       "15  We do not speak of isolated clever tricks that...   \n",
       "16  Engelbart subsequently implemented these conce...   \n",
       "\n",
       "                                               source  paragraph-number  \n",
       "0   https://en.wikipedia.org/wiki/Intelligence_amp...                 0  \n",
       "1   https://en.wikipedia.org/wiki/Intelligence_amp...                 1  \n",
       "2   https://en.wikipedia.org/wiki/Intelligence_amp...                 2  \n",
       "3   https://en.wikipedia.org/wiki/Intelligence_amp...                 3  \n",
       "4   https://en.wikipedia.org/wiki/Intelligence_amp...                 4  \n",
       "5   https://en.wikipedia.org/wiki/Intelligence_amp...                 5  \n",
       "6   https://en.wikipedia.org/wiki/Intelligence_amp...                 6  \n",
       "7   https://en.wikipedia.org/wiki/Intelligence_amp...                 7  \n",
       "8   https://en.wikipedia.org/wiki/Intelligence_amp...                 8  \n",
       "9   https://en.wikipedia.org/wiki/Intelligence_amp...                 9  \n",
       "10  https://en.wikipedia.org/wiki/Intelligence_amp...                10  \n",
       "11  https://en.wikipedia.org/wiki/Intelligence_amp...                11  \n",
       "12  https://en.wikipedia.org/wiki/Intelligence_amp...                12  \n",
       "13  https://en.wikipedia.org/wiki/Intelligence_amp...                13  \n",
       "14  https://en.wikipedia.org/wiki/Intelligence_amp...                14  \n",
       "15  https://en.wikipedia.org/wiki/Intelligence_amp...                15  \n",
       "16  https://en.wikipedia.org/wiki/Intelligence_amp...                16  "
      ]
     },
     "execution_count": 13,
     "metadata": {},
     "output_type": "execute_result"
    }
   ],
   "source": [
    "intParagraphsDF['source'] = [wikipedia_intelligence_amplification] * len(intParagraphsDF['paragraph-text'])\n",
    "intParagraphsDF['paragraph-number'] = range(len(intParagraphsDF['paragraph-text']))\n",
    "\n",
    "intParagraphsDF"
   ]
  },
  {
   "cell_type": "markdown",
   "metadata": {
    "deletable": true,
    "editable": true
   },
   "source": [
    "Then we can add two more columns to our `Dataframe` and define a function to parse\n",
    "each linked page and add its text to our DataFrame."
   ]
  },
  {
   "cell_type": "code",
   "execution_count": 14,
   "metadata": {
    "collapsed": true,
    "deletable": true,
    "editable": true
   },
   "outputs": [],
   "source": [
    "intParagraphsDF['source-paragraph-number'] = [None] * len(intParagraphsDF['paragraph-text'])\n",
    "intParagraphsDF['source-paragraph-text'] = [None] * len(intParagraphsDF['paragraph-text'])\n",
    "\n",
    "def getTextFromWikiPage(targetURL, sourceParNum, sourceText):\n",
    "    #Make a dict to store data before adding it to the DataFrame\n",
    "    parsDict = {'source' : [], 'paragraph-number' : [], 'paragraph-text' : [], 'source-paragraph-number' : [],  'source-paragraph-text' : []}\n",
    "    #Now we get the page\n",
    "    r = requests.get(targetURL)\n",
    "    soup = bs4.BeautifulSoup(r.text, 'html.parser')\n",
    "    #enumerating gives use the paragraph number\n",
    "    for parNum, pTag in enumerate(soup.body.findAll('p')):\n",
    "        #same regex as before\n",
    "        parsDict['paragraph-text'].append(re.sub(r'\\[\\d+\\]', '', pTag.text))\n",
    "        parsDict['paragraph-number'].append(parNum)\n",
    "        parsDict['source'].append(targetURL)\n",
    "        parsDict['source-paragraph-number'].append(sourceParNum)\n",
    "        parsDict['source-paragraph-text'].append(sourceText)\n",
    "    return pandas.DataFrame(parsDict)"
   ]
  },
  {
   "cell_type": "markdown",
   "metadata": {
    "deletable": true,
    "editable": true
   },
   "source": [
    "And run it on our list of link tags"
   ]
  },
  {
   "cell_type": "code",
   "execution_count": 15,
   "metadata": {
    "collapsed": false,
    "deletable": true,
    "editable": true
   },
   "outputs": [
    {
     "data": {
      "text/html": [
       "<div>\n",
       "<table border=\"1\" class=\"dataframe\">\n",
       "  <thead>\n",
       "    <tr style=\"text-align: right;\">\n",
       "      <th></th>\n",
       "      <th>paragraph-number</th>\n",
       "      <th>paragraph-text</th>\n",
       "      <th>source</th>\n",
       "      <th>source-paragraph-number</th>\n",
       "      <th>source-paragraph-text</th>\n",
       "    </tr>\n",
       "  </thead>\n",
       "  <tbody>\n",
       "    <tr>\n",
       "      <th>0</th>\n",
       "      <td>0</td>\n",
       "      <td>Intelligence amplification (IA) (also referred...</td>\n",
       "      <td>https://en.wikipedia.org/wiki/Intelligence_amp...</td>\n",
       "      <td>NaN</td>\n",
       "      <td>None</td>\n",
       "    </tr>\n",
       "    <tr>\n",
       "      <th>1</th>\n",
       "      <td>1</td>\n",
       "      <td>IA is sometimes contrasted with AI (artificial...</td>\n",
       "      <td>https://en.wikipedia.org/wiki/Intelligence_amp...</td>\n",
       "      <td>NaN</td>\n",
       "      <td>None</td>\n",
       "    </tr>\n",
       "    <tr>\n",
       "      <th>2</th>\n",
       "      <td>2</td>\n",
       "      <td></td>\n",
       "      <td>https://en.wikipedia.org/wiki/Intelligence_amp...</td>\n",
       "      <td>NaN</td>\n",
       "      <td>None</td>\n",
       "    </tr>\n",
       "    <tr>\n",
       "      <th>3</th>\n",
       "      <td>3</td>\n",
       "      <td></td>\n",
       "      <td>https://en.wikipedia.org/wiki/Intelligence_amp...</td>\n",
       "      <td>NaN</td>\n",
       "      <td>None</td>\n",
       "    </tr>\n",
       "    <tr>\n",
       "      <th>4</th>\n",
       "      <td>4</td>\n",
       "      <td>The term intelligence amplification (IA) has e...</td>\n",
       "      <td>https://en.wikipedia.org/wiki/Intelligence_amp...</td>\n",
       "      <td>NaN</td>\n",
       "      <td>None</td>\n",
       "    </tr>\n",
       "    <tr>\n",
       "      <th>5</th>\n",
       "      <td>5</td>\n",
       "      <td>..\"problem solving\" is largely, perhaps entire...</td>\n",
       "      <td>https://en.wikipedia.org/wiki/Intelligence_amp...</td>\n",
       "      <td>NaN</td>\n",
       "      <td>None</td>\n",
       "    </tr>\n",
       "    <tr>\n",
       "      <th>6</th>\n",
       "      <td>6</td>\n",
       "      <td>It is also clear that many of the tests used f...</td>\n",
       "      <td>https://en.wikipedia.org/wiki/Intelligence_amp...</td>\n",
       "      <td>NaN</td>\n",
       "      <td>None</td>\n",
       "    </tr>\n",
       "    <tr>\n",
       "      <th>7</th>\n",
       "      <td>7</td>\n",
       "      <td>If this is so, and as we know that power of se...</td>\n",
       "      <td>https://en.wikipedia.org/wiki/Intelligence_amp...</td>\n",
       "      <td>NaN</td>\n",
       "      <td>None</td>\n",
       "    </tr>\n",
       "    <tr>\n",
       "      <th>8</th>\n",
       "      <td>8</td>\n",
       "      <td>\"Man-Computer Symbiosis\" is a key speculative ...</td>\n",
       "      <td>https://en.wikipedia.org/wiki/Intelligence_amp...</td>\n",
       "      <td>NaN</td>\n",
       "      <td>None</td>\n",
       "    </tr>\n",
       "    <tr>\n",
       "      <th>9</th>\n",
       "      <td>9</td>\n",
       "      <td>Man-computer symbiosis is a subclass of man-ma...</td>\n",
       "      <td>https://en.wikipedia.org/wiki/Intelligence_amp...</td>\n",
       "      <td>NaN</td>\n",
       "      <td>None</td>\n",
       "    </tr>\n",
       "    <tr>\n",
       "      <th>10</th>\n",
       "      <td>10</td>\n",
       "      <td>In Licklider's vision, many of the pure artifi...</td>\n",
       "      <td>https://en.wikipedia.org/wiki/Intelligence_amp...</td>\n",
       "      <td>NaN</td>\n",
       "      <td>None</td>\n",
       "    </tr>\n",
       "    <tr>\n",
       "      <th>11</th>\n",
       "      <td>11</td>\n",
       "      <td>Licklider's research was similar in spirit to ...</td>\n",
       "      <td>https://en.wikipedia.org/wiki/Intelligence_amp...</td>\n",
       "      <td>NaN</td>\n",
       "      <td>None</td>\n",
       "    </tr>\n",
       "    <tr>\n",
       "      <th>12</th>\n",
       "      <td>12</td>\n",
       "      <td>Engelbart reasoned that the state of our curre...</td>\n",
       "      <td>https://en.wikipedia.org/wiki/Intelligence_amp...</td>\n",
       "      <td>NaN</td>\n",
       "      <td>None</td>\n",
       "    </tr>\n",
       "    <tr>\n",
       "      <th>13</th>\n",
       "      <td>13</td>\n",
       "      <td>\"Increasing the capability of a man to approac...</td>\n",
       "      <td>https://en.wikipedia.org/wiki/Intelligence_amp...</td>\n",
       "      <td>NaN</td>\n",
       "      <td>None</td>\n",
       "    </tr>\n",
       "    <tr>\n",
       "      <th>14</th>\n",
       "      <td>14</td>\n",
       "      <td>Increased capability in this respect is taken ...</td>\n",
       "      <td>https://en.wikipedia.org/wiki/Intelligence_amp...</td>\n",
       "      <td>NaN</td>\n",
       "      <td>None</td>\n",
       "    </tr>\n",
       "    <tr>\n",
       "      <th>15</th>\n",
       "      <td>15</td>\n",
       "      <td>We do not speak of isolated clever tricks that...</td>\n",
       "      <td>https://en.wikipedia.org/wiki/Intelligence_amp...</td>\n",
       "      <td>NaN</td>\n",
       "      <td>None</td>\n",
       "    </tr>\n",
       "    <tr>\n",
       "      <th>16</th>\n",
       "      <td>16</td>\n",
       "      <td>Engelbart subsequently implemented these conce...</td>\n",
       "      <td>https://en.wikipedia.org/wiki/Intelligence_amp...</td>\n",
       "      <td>NaN</td>\n",
       "      <td>None</td>\n",
       "    </tr>\n",
       "    <tr>\n",
       "      <th>17</th>\n",
       "      <td>0</td>\n",
       "      <td>Information technology (IT) is the application...</td>\n",
       "      <td>https://en.wikipedia.org/wiki/Information_tech...</td>\n",
       "      <td>0.0</td>\n",
       "      <td>information technology</td>\n",
       "    </tr>\n",
       "    <tr>\n",
       "      <th>18</th>\n",
       "      <td>1</td>\n",
       "      <td>The term is commonly used as a synonym for com...</td>\n",
       "      <td>https://en.wikipedia.org/wiki/Information_tech...</td>\n",
       "      <td>0.0</td>\n",
       "      <td>information technology</td>\n",
       "    </tr>\n",
       "    <tr>\n",
       "      <th>19</th>\n",
       "      <td>2</td>\n",
       "      <td>Humans have been storing, retrieving, manipula...</td>\n",
       "      <td>https://en.wikipedia.org/wiki/Information_tech...</td>\n",
       "      <td>0.0</td>\n",
       "      <td>information technology</td>\n",
       "    </tr>\n",
       "    <tr>\n",
       "      <th>20</th>\n",
       "      <td>3</td>\n",
       "      <td>Based on the storage and processing technologi...</td>\n",
       "      <td>https://en.wikipedia.org/wiki/Information_tech...</td>\n",
       "      <td>0.0</td>\n",
       "      <td>information technology</td>\n",
       "    </tr>\n",
       "    <tr>\n",
       "      <th>21</th>\n",
       "      <td>4</td>\n",
       "      <td></td>\n",
       "      <td>https://en.wikipedia.org/wiki/Information_tech...</td>\n",
       "      <td>0.0</td>\n",
       "      <td>information technology</td>\n",
       "    </tr>\n",
       "    <tr>\n",
       "      <th>22</th>\n",
       "      <td>5</td>\n",
       "      <td></td>\n",
       "      <td>https://en.wikipedia.org/wiki/Information_tech...</td>\n",
       "      <td>0.0</td>\n",
       "      <td>information technology</td>\n",
       "    </tr>\n",
       "    <tr>\n",
       "      <th>23</th>\n",
       "      <td>6</td>\n",
       "      <td>Devices have been used to aid computation for ...</td>\n",
       "      <td>https://en.wikipedia.org/wiki/Information_tech...</td>\n",
       "      <td>0.0</td>\n",
       "      <td>information technology</td>\n",
       "    </tr>\n",
       "    <tr>\n",
       "      <th>24</th>\n",
       "      <td>7</td>\n",
       "      <td>Electronic computers, using either relays or v...</td>\n",
       "      <td>https://en.wikipedia.org/wiki/Information_tech...</td>\n",
       "      <td>0.0</td>\n",
       "      <td>information technology</td>\n",
       "    </tr>\n",
       "    <tr>\n",
       "      <th>25</th>\n",
       "      <td>8</td>\n",
       "      <td>The development of transistors in the late 194...</td>\n",
       "      <td>https://en.wikipedia.org/wiki/Information_tech...</td>\n",
       "      <td>0.0</td>\n",
       "      <td>information technology</td>\n",
       "    </tr>\n",
       "    <tr>\n",
       "      <th>26</th>\n",
       "      <td>9</td>\n",
       "      <td>Early electronic computers such as Colossus ma...</td>\n",
       "      <td>https://en.wikipedia.org/wiki/Information_tech...</td>\n",
       "      <td>0.0</td>\n",
       "      <td>information technology</td>\n",
       "    </tr>\n",
       "    <tr>\n",
       "      <th>27</th>\n",
       "      <td>10</td>\n",
       "      <td>IBM introduced the first hard disk drive in 19...</td>\n",
       "      <td>https://en.wikipedia.org/wiki/Information_tech...</td>\n",
       "      <td>0.0</td>\n",
       "      <td>information technology</td>\n",
       "    </tr>\n",
       "    <tr>\n",
       "      <th>28</th>\n",
       "      <td>11</td>\n",
       "      <td>Database management systems emerged in the 196...</td>\n",
       "      <td>https://en.wikipedia.org/wiki/Information_tech...</td>\n",
       "      <td>0.0</td>\n",
       "      <td>information technology</td>\n",
       "    </tr>\n",
       "    <tr>\n",
       "      <th>29</th>\n",
       "      <td>12</td>\n",
       "      <td>All database management systems consist of a n...</td>\n",
       "      <td>https://en.wikipedia.org/wiki/Information_tech...</td>\n",
       "      <td>0.0</td>\n",
       "      <td>information technology</td>\n",
       "    </tr>\n",
       "    <tr>\n",
       "      <th>...</th>\n",
       "      <td>...</td>\n",
       "      <td>...</td>\n",
       "      <td>...</td>\n",
       "      <td>...</td>\n",
       "      <td>...</td>\n",
       "    </tr>\n",
       "    <tr>\n",
       "      <th>92</th>\n",
       "      <td>14</td>\n",
       "      <td>Early applications of negative feedback in ele...</td>\n",
       "      <td>https://en.wikipedia.org/wiki/Cybernetics</td>\n",
       "      <td>0.0</td>\n",
       "      <td>cybernetics</td>\n",
       "    </tr>\n",
       "    <tr>\n",
       "      <th>93</th>\n",
       "      <td>15</td>\n",
       "      <td>W. Edwards Deming, the Total Quality Managemen...</td>\n",
       "      <td>https://en.wikipedia.org/wiki/Cybernetics</td>\n",
       "      <td>0.0</td>\n",
       "      <td>cybernetics</td>\n",
       "    </tr>\n",
       "    <tr>\n",
       "      <th>94</th>\n",
       "      <td>16</td>\n",
       "      <td>Numerous papers spearheaded the coalescing of ...</td>\n",
       "      <td>https://en.wikipedia.org/wiki/Cybernetics</td>\n",
       "      <td>0.0</td>\n",
       "      <td>cybernetics</td>\n",
       "    </tr>\n",
       "    <tr>\n",
       "      <th>95</th>\n",
       "      <td>17</td>\n",
       "      <td>In 1936, Ștefan Odobleja publishes \"Phonoscopy...</td>\n",
       "      <td>https://en.wikipedia.org/wiki/Cybernetics</td>\n",
       "      <td>0.0</td>\n",
       "      <td>cybernetics</td>\n",
       "    </tr>\n",
       "    <tr>\n",
       "      <th>96</th>\n",
       "      <td>18</td>\n",
       "      <td>Cybernetics as a discipline was firmly establi...</td>\n",
       "      <td>https://en.wikipedia.org/wiki/Cybernetics</td>\n",
       "      <td>0.0</td>\n",
       "      <td>cybernetics</td>\n",
       "    </tr>\n",
       "    <tr>\n",
       "      <th>97</th>\n",
       "      <td>19</td>\n",
       "      <td>In the early 1940s John von Neumann, although ...</td>\n",
       "      <td>https://en.wikipedia.org/wiki/Cybernetics</td>\n",
       "      <td>0.0</td>\n",
       "      <td>cybernetics</td>\n",
       "    </tr>\n",
       "    <tr>\n",
       "      <th>98</th>\n",
       "      <td>20</td>\n",
       "      <td>In 1950, Wiener popularized the social implica...</td>\n",
       "      <td>https://en.wikipedia.org/wiki/Cybernetics</td>\n",
       "      <td>0.0</td>\n",
       "      <td>cybernetics</td>\n",
       "    </tr>\n",
       "    <tr>\n",
       "      <th>99</th>\n",
       "      <td>21</td>\n",
       "      <td>In the Soviet Union cybernetics was considered...</td>\n",
       "      <td>https://en.wikipedia.org/wiki/Cybernetics</td>\n",
       "      <td>0.0</td>\n",
       "      <td>cybernetics</td>\n",
       "    </tr>\n",
       "    <tr>\n",
       "      <th>100</th>\n",
       "      <td>22</td>\n",
       "      <td>While not the only instance of a research orga...</td>\n",
       "      <td>https://en.wikipedia.org/wiki/Cybernetics</td>\n",
       "      <td>0.0</td>\n",
       "      <td>cybernetics</td>\n",
       "    </tr>\n",
       "    <tr>\n",
       "      <th>101</th>\n",
       "      <td>23</td>\n",
       "      <td>Artificial intelligence (AI) was founded as a ...</td>\n",
       "      <td>https://en.wikipedia.org/wiki/Cybernetics</td>\n",
       "      <td>0.0</td>\n",
       "      <td>cybernetics</td>\n",
       "    </tr>\n",
       "    <tr>\n",
       "      <th>102</th>\n",
       "      <td>24</td>\n",
       "      <td>Prominent cyberneticians during this period in...</td>\n",
       "      <td>https://en.wikipedia.org/wiki/Cybernetics</td>\n",
       "      <td>0.0</td>\n",
       "      <td>cybernetics</td>\n",
       "    </tr>\n",
       "    <tr>\n",
       "      <th>103</th>\n",
       "      <td>25</td>\n",
       "      <td>In the 1970s, new cyberneticians emerged in mu...</td>\n",
       "      <td>https://en.wikipedia.org/wiki/Cybernetics</td>\n",
       "      <td>0.0</td>\n",
       "      <td>cybernetics</td>\n",
       "    </tr>\n",
       "    <tr>\n",
       "      <th>104</th>\n",
       "      <td>26</td>\n",
       "      <td>In political science, Project Cybersyn attempt...</td>\n",
       "      <td>https://en.wikipedia.org/wiki/Cybernetics</td>\n",
       "      <td>0.0</td>\n",
       "      <td>cybernetics</td>\n",
       "    </tr>\n",
       "    <tr>\n",
       "      <th>105</th>\n",
       "      <td>27</td>\n",
       "      <td>One characteristic of the emerging new cyberne...</td>\n",
       "      <td>https://en.wikipedia.org/wiki/Cybernetics</td>\n",
       "      <td>0.0</td>\n",
       "      <td>cybernetics</td>\n",
       "    </tr>\n",
       "    <tr>\n",
       "      <th>106</th>\n",
       "      <td>28</td>\n",
       "      <td>Recent endeavors into the true focus of cybern...</td>\n",
       "      <td>https://en.wikipedia.org/wiki/Cybernetics</td>\n",
       "      <td>0.0</td>\n",
       "      <td>cybernetics</td>\n",
       "    </tr>\n",
       "    <tr>\n",
       "      <th>107</th>\n",
       "      <td>29</td>\n",
       "      <td>The design of self-regulating control systems ...</td>\n",
       "      <td>https://en.wikipedia.org/wiki/Cybernetics</td>\n",
       "      <td>0.0</td>\n",
       "      <td>cybernetics</td>\n",
       "    </tr>\n",
       "    <tr>\n",
       "      <th>108</th>\n",
       "      <td>30</td>\n",
       "      <td>More recent proposals for socialism involve \"N...</td>\n",
       "      <td>https://en.wikipedia.org/wiki/Cybernetics</td>\n",
       "      <td>0.0</td>\n",
       "      <td>cybernetics</td>\n",
       "    </tr>\n",
       "    <tr>\n",
       "      <th>109</th>\n",
       "      <td>31</td>\n",
       "      <td>Cybernetics is sometimes used as a generic ter...</td>\n",
       "      <td>https://en.wikipedia.org/wiki/Cybernetics</td>\n",
       "      <td>0.0</td>\n",
       "      <td>cybernetics</td>\n",
       "    </tr>\n",
       "    <tr>\n",
       "      <th>110</th>\n",
       "      <td>32</td>\n",
       "      <td>Cybernetics studies systems of control as a co...</td>\n",
       "      <td>https://en.wikipedia.org/wiki/Cybernetics</td>\n",
       "      <td>0.0</td>\n",
       "      <td>cybernetics</td>\n",
       "    </tr>\n",
       "    <tr>\n",
       "      <th>111</th>\n",
       "      <td>33</td>\n",
       "      <td>Cybernetics in biology is the study of cyberne...</td>\n",
       "      <td>https://en.wikipedia.org/wiki/Cybernetics</td>\n",
       "      <td>0.0</td>\n",
       "      <td>cybernetics</td>\n",
       "    </tr>\n",
       "    <tr>\n",
       "      <th>112</th>\n",
       "      <td>34</td>\n",
       "      <td>Computer science directly applies the concepts...</td>\n",
       "      <td>https://en.wikipedia.org/wiki/Cybernetics</td>\n",
       "      <td>0.0</td>\n",
       "      <td>cybernetics</td>\n",
       "    </tr>\n",
       "    <tr>\n",
       "      <th>113</th>\n",
       "      <td>35</td>\n",
       "      <td>Cybernetics in engineering is used to analyze ...</td>\n",
       "      <td>https://en.wikipedia.org/wiki/Cybernetics</td>\n",
       "      <td>0.0</td>\n",
       "      <td>cybernetics</td>\n",
       "    </tr>\n",
       "    <tr>\n",
       "      <th>114</th>\n",
       "      <td>36</td>\n",
       "      <td>Mathematical Cybernetics focuses on the factor...</td>\n",
       "      <td>https://en.wikipedia.org/wiki/Cybernetics</td>\n",
       "      <td>0.0</td>\n",
       "      <td>cybernetics</td>\n",
       "    </tr>\n",
       "    <tr>\n",
       "      <th>115</th>\n",
       "      <td>37</td>\n",
       "      <td>By examining group behavior through the lens o...</td>\n",
       "      <td>https://en.wikipedia.org/wiki/Cybernetics</td>\n",
       "      <td>0.0</td>\n",
       "      <td>cybernetics</td>\n",
       "    </tr>\n",
       "    <tr>\n",
       "      <th>116</th>\n",
       "      <td>38</td>\n",
       "      <td>A model of cybernetics in Education was introd...</td>\n",
       "      <td>https://en.wikipedia.org/wiki/Cybernetics</td>\n",
       "      <td>0.0</td>\n",
       "      <td>cybernetics</td>\n",
       "    </tr>\n",
       "    <tr>\n",
       "      <th>117</th>\n",
       "      <td>39</td>\n",
       "      <td>Nicolas Schöffer's CYSP I (1956) was perhaps t...</td>\n",
       "      <td>https://en.wikipedia.org/wiki/Cybernetics</td>\n",
       "      <td>0.0</td>\n",
       "      <td>cybernetics</td>\n",
       "    </tr>\n",
       "    <tr>\n",
       "      <th>118</th>\n",
       "      <td>40</td>\n",
       "      <td>Geocybernetics aims to study and control the c...</td>\n",
       "      <td>https://en.wikipedia.org/wiki/Cybernetics</td>\n",
       "      <td>0.0</td>\n",
       "      <td>cybernetics</td>\n",
       "    </tr>\n",
       "    <tr>\n",
       "      <th>119</th>\n",
       "      <td>41</td>\n",
       "      <td>A model of cybernetics in Sport was introduced...</td>\n",
       "      <td>https://en.wikipedia.org/wiki/Cybernetics</td>\n",
       "      <td>0.0</td>\n",
       "      <td>cybernetics</td>\n",
       "    </tr>\n",
       "    <tr>\n",
       "      <th>120</th>\n",
       "      <td>42</td>\n",
       "      <td>Complexity science attempts to understand the ...</td>\n",
       "      <td>https://en.wikipedia.org/wiki/Cybernetics</td>\n",
       "      <td>0.0</td>\n",
       "      <td>cybernetics</td>\n",
       "    </tr>\n",
       "    <tr>\n",
       "      <th>121</th>\n",
       "      <td>43</td>\n",
       "      <td>Biomechatronics relates to linking mechatronic...</td>\n",
       "      <td>https://en.wikipedia.org/wiki/Cybernetics</td>\n",
       "      <td>0.0</td>\n",
       "      <td>cybernetics</td>\n",
       "    </tr>\n",
       "  </tbody>\n",
       "</table>\n",
       "<p>122 rows × 5 columns</p>\n",
       "</div>"
      ],
      "text/plain": [
       "     paragraph-number                                     paragraph-text  \\\n",
       "0                   0  Intelligence amplification (IA) (also referred...   \n",
       "1                   1  IA is sometimes contrasted with AI (artificial...   \n",
       "2                   2                                                      \n",
       "3                   3                                                      \n",
       "4                   4  The term intelligence amplification (IA) has e...   \n",
       "5                   5  ..\"problem solving\" is largely, perhaps entire...   \n",
       "6                   6  It is also clear that many of the tests used f...   \n",
       "7                   7  If this is so, and as we know that power of se...   \n",
       "8                   8  \"Man-Computer Symbiosis\" is a key speculative ...   \n",
       "9                   9  Man-computer symbiosis is a subclass of man-ma...   \n",
       "10                 10  In Licklider's vision, many of the pure artifi...   \n",
       "11                 11  Licklider's research was similar in spirit to ...   \n",
       "12                 12  Engelbart reasoned that the state of our curre...   \n",
       "13                 13  \"Increasing the capability of a man to approac...   \n",
       "14                 14  Increased capability in this respect is taken ...   \n",
       "15                 15  We do not speak of isolated clever tricks that...   \n",
       "16                 16  Engelbart subsequently implemented these conce...   \n",
       "17                  0  Information technology (IT) is the application...   \n",
       "18                  1  The term is commonly used as a synonym for com...   \n",
       "19                  2  Humans have been storing, retrieving, manipula...   \n",
       "20                  3  Based on the storage and processing technologi...   \n",
       "21                  4                                                      \n",
       "22                  5                                                      \n",
       "23                  6  Devices have been used to aid computation for ...   \n",
       "24                  7  Electronic computers, using either relays or v...   \n",
       "25                  8  The development of transistors in the late 194...   \n",
       "26                  9  Early electronic computers such as Colossus ma...   \n",
       "27                 10  IBM introduced the first hard disk drive in 19...   \n",
       "28                 11  Database management systems emerged in the 196...   \n",
       "29                 12  All database management systems consist of a n...   \n",
       "..                ...                                                ...   \n",
       "92                 14  Early applications of negative feedback in ele...   \n",
       "93                 15  W. Edwards Deming, the Total Quality Managemen...   \n",
       "94                 16  Numerous papers spearheaded the coalescing of ...   \n",
       "95                 17  In 1936, Ștefan Odobleja publishes \"Phonoscopy...   \n",
       "96                 18  Cybernetics as a discipline was firmly establi...   \n",
       "97                 19  In the early 1940s John von Neumann, although ...   \n",
       "98                 20  In 1950, Wiener popularized the social implica...   \n",
       "99                 21  In the Soviet Union cybernetics was considered...   \n",
       "100                22  While not the only instance of a research orga...   \n",
       "101                23  Artificial intelligence (AI) was founded as a ...   \n",
       "102                24  Prominent cyberneticians during this period in...   \n",
       "103                25  In the 1970s, new cyberneticians emerged in mu...   \n",
       "104                26  In political science, Project Cybersyn attempt...   \n",
       "105                27  One characteristic of the emerging new cyberne...   \n",
       "106                28  Recent endeavors into the true focus of cybern...   \n",
       "107                29  The design of self-regulating control systems ...   \n",
       "108                30  More recent proposals for socialism involve \"N...   \n",
       "109                31  Cybernetics is sometimes used as a generic ter...   \n",
       "110                32  Cybernetics studies systems of control as a co...   \n",
       "111                33  Cybernetics in biology is the study of cyberne...   \n",
       "112                34  Computer science directly applies the concepts...   \n",
       "113                35  Cybernetics in engineering is used to analyze ...   \n",
       "114                36  Mathematical Cybernetics focuses on the factor...   \n",
       "115                37  By examining group behavior through the lens o...   \n",
       "116                38  A model of cybernetics in Education was introd...   \n",
       "117                39  Nicolas Schöffer's CYSP I (1956) was perhaps t...   \n",
       "118                40  Geocybernetics aims to study and control the c...   \n",
       "119                41  A model of cybernetics in Sport was introduced...   \n",
       "120                42  Complexity science attempts to understand the ...   \n",
       "121                43  Biomechatronics relates to linking mechatronic...   \n",
       "\n",
       "                                                source  \\\n",
       "0    https://en.wikipedia.org/wiki/Intelligence_amp...   \n",
       "1    https://en.wikipedia.org/wiki/Intelligence_amp...   \n",
       "2    https://en.wikipedia.org/wiki/Intelligence_amp...   \n",
       "3    https://en.wikipedia.org/wiki/Intelligence_amp...   \n",
       "4    https://en.wikipedia.org/wiki/Intelligence_amp...   \n",
       "5    https://en.wikipedia.org/wiki/Intelligence_amp...   \n",
       "6    https://en.wikipedia.org/wiki/Intelligence_amp...   \n",
       "7    https://en.wikipedia.org/wiki/Intelligence_amp...   \n",
       "8    https://en.wikipedia.org/wiki/Intelligence_amp...   \n",
       "9    https://en.wikipedia.org/wiki/Intelligence_amp...   \n",
       "10   https://en.wikipedia.org/wiki/Intelligence_amp...   \n",
       "11   https://en.wikipedia.org/wiki/Intelligence_amp...   \n",
       "12   https://en.wikipedia.org/wiki/Intelligence_amp...   \n",
       "13   https://en.wikipedia.org/wiki/Intelligence_amp...   \n",
       "14   https://en.wikipedia.org/wiki/Intelligence_amp...   \n",
       "15   https://en.wikipedia.org/wiki/Intelligence_amp...   \n",
       "16   https://en.wikipedia.org/wiki/Intelligence_amp...   \n",
       "17   https://en.wikipedia.org/wiki/Information_tech...   \n",
       "18   https://en.wikipedia.org/wiki/Information_tech...   \n",
       "19   https://en.wikipedia.org/wiki/Information_tech...   \n",
       "20   https://en.wikipedia.org/wiki/Information_tech...   \n",
       "21   https://en.wikipedia.org/wiki/Information_tech...   \n",
       "22   https://en.wikipedia.org/wiki/Information_tech...   \n",
       "23   https://en.wikipedia.org/wiki/Information_tech...   \n",
       "24   https://en.wikipedia.org/wiki/Information_tech...   \n",
       "25   https://en.wikipedia.org/wiki/Information_tech...   \n",
       "26   https://en.wikipedia.org/wiki/Information_tech...   \n",
       "27   https://en.wikipedia.org/wiki/Information_tech...   \n",
       "28   https://en.wikipedia.org/wiki/Information_tech...   \n",
       "29   https://en.wikipedia.org/wiki/Information_tech...   \n",
       "..                                                 ...   \n",
       "92           https://en.wikipedia.org/wiki/Cybernetics   \n",
       "93           https://en.wikipedia.org/wiki/Cybernetics   \n",
       "94           https://en.wikipedia.org/wiki/Cybernetics   \n",
       "95           https://en.wikipedia.org/wiki/Cybernetics   \n",
       "96           https://en.wikipedia.org/wiki/Cybernetics   \n",
       "97           https://en.wikipedia.org/wiki/Cybernetics   \n",
       "98           https://en.wikipedia.org/wiki/Cybernetics   \n",
       "99           https://en.wikipedia.org/wiki/Cybernetics   \n",
       "100          https://en.wikipedia.org/wiki/Cybernetics   \n",
       "101          https://en.wikipedia.org/wiki/Cybernetics   \n",
       "102          https://en.wikipedia.org/wiki/Cybernetics   \n",
       "103          https://en.wikipedia.org/wiki/Cybernetics   \n",
       "104          https://en.wikipedia.org/wiki/Cybernetics   \n",
       "105          https://en.wikipedia.org/wiki/Cybernetics   \n",
       "106          https://en.wikipedia.org/wiki/Cybernetics   \n",
       "107          https://en.wikipedia.org/wiki/Cybernetics   \n",
       "108          https://en.wikipedia.org/wiki/Cybernetics   \n",
       "109          https://en.wikipedia.org/wiki/Cybernetics   \n",
       "110          https://en.wikipedia.org/wiki/Cybernetics   \n",
       "111          https://en.wikipedia.org/wiki/Cybernetics   \n",
       "112          https://en.wikipedia.org/wiki/Cybernetics   \n",
       "113          https://en.wikipedia.org/wiki/Cybernetics   \n",
       "114          https://en.wikipedia.org/wiki/Cybernetics   \n",
       "115          https://en.wikipedia.org/wiki/Cybernetics   \n",
       "116          https://en.wikipedia.org/wiki/Cybernetics   \n",
       "117          https://en.wikipedia.org/wiki/Cybernetics   \n",
       "118          https://en.wikipedia.org/wiki/Cybernetics   \n",
       "119          https://en.wikipedia.org/wiki/Cybernetics   \n",
       "120          https://en.wikipedia.org/wiki/Cybernetics   \n",
       "121          https://en.wikipedia.org/wiki/Cybernetics   \n",
       "\n",
       "     source-paragraph-number   source-paragraph-text  \n",
       "0                        NaN                    None  \n",
       "1                        NaN                    None  \n",
       "2                        NaN                    None  \n",
       "3                        NaN                    None  \n",
       "4                        NaN                    None  \n",
       "5                        NaN                    None  \n",
       "6                        NaN                    None  \n",
       "7                        NaN                    None  \n",
       "8                        NaN                    None  \n",
       "9                        NaN                    None  \n",
       "10                       NaN                    None  \n",
       "11                       NaN                    None  \n",
       "12                       NaN                    None  \n",
       "13                       NaN                    None  \n",
       "14                       NaN                    None  \n",
       "15                       NaN                    None  \n",
       "16                       NaN                    None  \n",
       "17                       0.0  information technology  \n",
       "18                       0.0  information technology  \n",
       "19                       0.0  information technology  \n",
       "20                       0.0  information technology  \n",
       "21                       0.0  information technology  \n",
       "22                       0.0  information technology  \n",
       "23                       0.0  information technology  \n",
       "24                       0.0  information technology  \n",
       "25                       0.0  information technology  \n",
       "26                       0.0  information technology  \n",
       "27                       0.0  information technology  \n",
       "28                       0.0  information technology  \n",
       "29                       0.0  information technology  \n",
       "..                       ...                     ...  \n",
       "92                       0.0             cybernetics  \n",
       "93                       0.0             cybernetics  \n",
       "94                       0.0             cybernetics  \n",
       "95                       0.0             cybernetics  \n",
       "96                       0.0             cybernetics  \n",
       "97                       0.0             cybernetics  \n",
       "98                       0.0             cybernetics  \n",
       "99                       0.0             cybernetics  \n",
       "100                      0.0             cybernetics  \n",
       "101                      0.0             cybernetics  \n",
       "102                      0.0             cybernetics  \n",
       "103                      0.0             cybernetics  \n",
       "104                      0.0             cybernetics  \n",
       "105                      0.0             cybernetics  \n",
       "106                      0.0             cybernetics  \n",
       "107                      0.0             cybernetics  \n",
       "108                      0.0             cybernetics  \n",
       "109                      0.0             cybernetics  \n",
       "110                      0.0             cybernetics  \n",
       "111                      0.0             cybernetics  \n",
       "112                      0.0             cybernetics  \n",
       "113                      0.0             cybernetics  \n",
       "114                      0.0             cybernetics  \n",
       "115                      0.0             cybernetics  \n",
       "116                      0.0             cybernetics  \n",
       "117                      0.0             cybernetics  \n",
       "118                      0.0             cybernetics  \n",
       "119                      0.0             cybernetics  \n",
       "120                      0.0             cybernetics  \n",
       "121                      0.0             cybernetics  \n",
       "\n",
       "[122 rows x 5 columns]"
      ]
     },
     "execution_count": 15,
     "metadata": {},
     "output_type": "execute_result"
    }
   ],
   "source": [
    "for urlTuple in otherPAgeURLS[:3]:\n",
    "    #ignore_index means the indices will not be reset after each append\n",
    "    intParagraphsDF = intParagraphsDF.append(getTextFromWikiPage(*urlTuple),ignore_index=True)\n",
    "intParagraphsDF"
   ]
  },
  {
   "cell_type": "markdown",
   "metadata": {
    "deletable": true,
    "editable": true
   },
   "source": [
    "## API (Tumblr)\n",
    "\n",
    "Generally website owners do not like you scraping their sites. If done badly,\n",
    "scarping can act like a DOS attack so you should be careful how often you make\n",
    "calls to a site. Some sites want automated tools to access their data, so they\n",
    "create [application programming interface\n",
    "(APIs)](https://en.wikipedia.org/wiki/Application_programming_interface). An API\n",
    "specifies a procedure for an application (or script) to access their data. Often\n",
    "this is though a [representational state transfer\n",
    "(REST)](https://en.wikipedia.org/wiki/Representational_state_transfer) web\n",
    "service, which just means if you make correctly formatted HTTP requests they\n",
    "will return nicely formatted data.\n",
    "\n",
    "A nice example for us to study is [Tumblr](https://www.tumblr.com), they have a\n",
    "[simple RESTful API](https://www.tumblr.com/docs/en/api/v1) that allows you to\n",
    "read posts without any complicated html parsing.\n",
    "\n",
    "We can get the first 20 posts from a blog by making an http GET request to\n",
    "`'http://{blog}.tumblr.com/api/read/json'`, were `{blog}` is the name of the\n",
    "target blog. Lets try and get the posts from [http://lolcats-lol-\n",
    "cat.tumblr.com/](http://lolcats-lol-cat.tumblr.com/) (Note the blog says at the\n",
    "top 'One hour one pic lolcats', but the canonical name that Tumblr uses is in\n",
    "the URL 'lolcats-lol-cat')."
   ]
  },
  {
   "cell_type": "code",
   "execution_count": 16,
   "metadata": {
    "collapsed": false,
    "deletable": true,
    "editable": true
   },
   "outputs": [
    {
     "name": "stdout",
     "output_type": "stream",
     "text": [
      "var tumblr_api_read = {\"tumblelog\":{\"title\":\"One hour one pic lolcats\",\"description\":\"\",\"name\":\"lolcats-lol-cat\",\"timezone\":\"Europe\\/Paris\",\"cname\":false,\"feeds\":[]},\"posts-start\":0,\"posts-total\":2719,\"posts-type\":false,\"posts\":[{\"id\":\"158722814874\",\"url\":\"http:\\/\\/lolcats-lol-cat.tumblr.com\\/post\\/158722814874\",\"url-with-slug\":\"http:\\/\\/lolcats-lol-cat.tumblr.com\\/post\\/158722814874\\/my-plan-to-infiltrate-has-succeeded\",\"type\":\"photo\",\"date-gmt\":\"2017-03-23 01:00:37 GMT\",\"date\":\"Thu, 23 Mar 2017 02:00:37\",\"bookmarklet\":0,\"mobile\":0,\"feed-item\":\"\",\"from-feed-id\":0,\"unix-timestamp\":1490230837,\"format\":\"html\",\"reblog-key\":\"efSGWGc7\",\"slug\":\"my-plan-to-infiltrate-has-succeeded\",\"is-submission\":false,\"like-button\":\"<div class=\\\"like_button\\\" data-post-id=\\\"158722814874\\\" data-blog-name=\\\"lolcats-lol-cat\\\" id=\\\"like_button_158722814874\\\"><iframe id=\\\"like_iframe_158722814874\\\" src=\\\"http:\\/\\/assets.tumblr.com\\/assets\\/html\\/like_iframe.html?_v=e350d333d34f56656df9f206c69335f3#name=lolcats-l\n"
     ]
    }
   ],
   "source": [
    "tumblrAPItarget = 'http://{}.tumblr.com/api/read/json'\n",
    "\n",
    "r = requests.get(tumblrAPItarget.format('lolcats-lol-cat'))\n",
    "\n",
    "print(r.text[:1000])"
   ]
  },
  {
   "cell_type": "markdown",
   "metadata": {
    "deletable": true,
    "editable": true
   },
   "source": [
    "This might not look very good on first inspection, but it has far fewer angle\n",
    "braces than html, which makes it easier to parse. What we have is\n",
    "[JSON](https://en.wikipedia.org/wiki/JSON) a 'human readable' text based data\n",
    "transmission format based on javascript. Luckily, we can readily convert it to a\n",
    "python `dict`."
   ]
  },
  {
   "cell_type": "code",
   "execution_count": 17,
   "metadata": {
    "collapsed": false,
    "deletable": true,
    "editable": true
   },
   "outputs": [
    {
     "name": "stdout",
     "output_type": "stream",
     "text": [
      "dict_keys(['tumblelog', 'posts', 'posts-total', 'posts-start', 'posts-type'])\n",
      "20\n"
     ]
    }
   ],
   "source": [
    "#We need to load only the stuff between the curly braces\n",
    "d = json.loads(r.text[len('var tumblr_api_read = '):-2])\n",
    "print(d.keys())\n",
    "print(len(d['posts']))"
   ]
  },
  {
   "cell_type": "markdown",
   "metadata": {
    "deletable": true,
    "editable": true
   },
   "source": [
    "If we read the [API specification](https://www.tumblr.com/docs/en/api/v1), we\n",
    "will see there are a lot of things we can get if we add things to our GET\n",
    "request. First we can retrieve posts by their id number. Let's first get post\n",
    "`146020177084`."
   ]
  },
  {
   "cell_type": "code",
   "execution_count": 18,
   "metadata": {
    "collapsed": true,
    "deletable": true,
    "editable": true
   },
   "outputs": [],
   "source": [
    "r = requests.get(tumblrAPItarget.format('lolcats-lol-cat'), params = {'id' : 146020177084})\n",
    "d = json.loads(r.text[len('var tumblr_api_read = '):-2])\n",
    "d['posts'][0].keys()\n",
    "d['posts'][0]['photo-url-1280']\n",
    "\n",
    "with open('lolcat.gif', 'wb') as f:\n",
    "    gifRequest = requests.get(d['posts'][0]['photo-url-1280'], stream = True)\n",
    "    f.write(gifRequest.content)"
   ]
  },
  {
   "cell_type": "markdown",
   "metadata": {
    "deletable": true,
    "editable": true
   },
   "source": [
    "<img src='lolcat.gif'>\n",
    "\n",
    "Such beauty; such vigor (If you can't see it you have to refresh the page). Now we could retrieve the text from all posts as well\n",
    "as related metadata, like the post date, caption or tags. We could also get\n",
    "links to all the images."
   ]
  },
  {
   "cell_type": "code",
   "execution_count": 19,
   "metadata": {
    "collapsed": false,
    "deletable": true,
    "editable": true
   },
   "outputs": [
    {
     "data": {
      "text/html": [
       "<div>\n",
       "<table border=\"1\" class=\"dataframe\">\n",
       "  <thead>\n",
       "    <tr style=\"text-align: right;\">\n",
       "      <th></th>\n",
       "      <th>date</th>\n",
       "      <th>id</th>\n",
       "      <th>photo-type</th>\n",
       "      <th>photo-url</th>\n",
       "      <th>tags</th>\n",
       "    </tr>\n",
       "  </thead>\n",
       "  <tbody>\n",
       "  </tbody>\n",
       "</table>\n",
       "</div>"
      ],
      "text/plain": [
       "Empty DataFrame\n",
       "Columns: [date, id, photo-type, photo-url, tags]\n",
       "Index: []"
      ]
     },
     "execution_count": 19,
     "metadata": {},
     "output_type": "execute_result"
    }
   ],
   "source": [
    "#Putting a max in case the blog has millions of images\n",
    "#The given max will be rounded up to the nearest multiple of 50\n",
    "def tumblrImageScrape(blogName, maxImages = 200):\n",
    "    #Restating this here so the function isn't dependent on any external variables\n",
    "    tumblrAPItarget = 'http://{}.tumblr.com/api/read/json'\n",
    "\n",
    "    #There are a bunch of possible locations for the photo url\n",
    "    possiblePhotoSuffixes = [1280, 500, 400, 250, 100]\n",
    "\n",
    "    #These are the pieces of information we will be gathering,\n",
    "    #at the end we will convert this to a DataFrame.\n",
    "    #There are a few other datums we could gather like the captions\n",
    "    #you can read the Tumblr documentation to learn how to get them\n",
    "    #https://www.tumblr.com/docs/en/api/v1\n",
    "    postsData = {\n",
    "        'id' : [],\n",
    "        'photo-url' : [],\n",
    "        'date' : [],\n",
    "        'tags' : [],\n",
    "        'photo-type' : []\n",
    "    }\n",
    "\n",
    "    #Tumblr limits us to a max of 50 posts per request\n",
    "    for requestNum in range(maxImages // 50):\n",
    "        requestParams = {\n",
    "            'start' : requestNum * 50,\n",
    "            'num' : 50,\n",
    "            'type' : 'photo'\n",
    "        }\n",
    "        r = requests.get(tumblrAPItarget.format(blogName), params = requestParams)\n",
    "        requestDict = json.loads(r.text[len('var tumblr_api_read = '):-2])\n",
    "        for postDict in requestDict['posts']:\n",
    "            #We are dealing with uncleaned data, we can't trust it.\n",
    "            #Specifically, not all posts are guaranteed to have the fields we want\n",
    "            try:\n",
    "                postsData['id'].append(postDict['id'])\n",
    "                postsData['date'].append(postDict['date'])\n",
    "                postsData['tags'].append(postDict['tags'])\n",
    "            except KeyError as e:\n",
    "                raise KeyError(\"Post {} from {} is missing: {}\".format(postDict['id'], blogName, e))\n",
    "\n",
    "            foundSuffix = False\n",
    "            for suffix in possiblePhotoSuffixes:\n",
    "                try:\n",
    "                    photoURL = postDict['photo-url-{}'.format(suffix)]\n",
    "                    postsData['photo-url'].append(photoURL)\n",
    "                    postsData['photo-type'].append(photoURL.split('.')[-1])\n",
    "                    foundSuffix = True\n",
    "                    break\n",
    "                except KeyError:\n",
    "                    pass\n",
    "            if not foundSuffix:\n",
    "                #Make sure your error messages are useful\n",
    "                #You will be one of the users\n",
    "                raise KeyError(\"Post {} from {} is missing a photo url\".format(postDict['id'], blogName))\n",
    "\n",
    "    return pandas.DataFrame(postsData)\n",
    "tumblrImageScrape('lolcats-lol-cat', 20)"
   ]
  },
  {
   "cell_type": "markdown",
   "metadata": {
    "deletable": true,
    "editable": true
   },
   "source": [
    "# Files\n",
    "\n",
    "What if the text we want isn't on a webpage? There are a many other sources of\n",
    "text available, typically organized into *files*.\n",
    "\n",
    "## Raw text (and encoding)\n",
    "\n",
    "The most basic form of storing text is as a _raw text_ document. Source code\n",
    "(`.py`, `.r`, etc) is usually raw text as are text files (`.txt`) and those with\n",
    "many other extension (e.g., .csv, .dat, etc.). Opening an unknown file with a\n",
    "text editor is often a great way of learning what the file is.\n",
    "\n",
    "We can create a text file in python with the `open()` function"
   ]
  },
  {
   "cell_type": "code",
   "execution_count": 20,
   "metadata": {
    "collapsed": true,
    "deletable": true,
    "editable": true
   },
   "outputs": [],
   "source": [
    "#example_text_file = 'sometextfile.txt'\n",
    "#stringToWrite = 'A line\\nAnother line\\nA line with a few unusual symbols \\u2421 \\u241B \\u20A0 \\u20A1 \\u20A2 \\u20A3 \\u0D60\\n'\n",
    "stringToWrite = 'A line\\nAnother line\\nA line with a few unusual symbols ␡ ␛ ₠ ₡ ₢ ₣ ൠ\\n'\n",
    "\n",
    "with open(example_text_file, mode = 'w', encoding='utf-8') as f:\n",
    "    f.write(stringToWrite)"
   ]
  },
  {
   "cell_type": "markdown",
   "metadata": {
    "deletable": true,
    "editable": true
   },
   "source": [
    "Notice the `encoding='utf-8'` argument, which specifies how we map the bits from\n",
    "the file to the glyphs (and whitespace characters like tab (`'\\t'`) or newline\n",
    "(`'\\n'`)) on the screen. When dealing only with latin letters, arabic numerals\n",
    "and the other symbols on America keyboards you usually do not have to worry\n",
    "about encodings as the ones used today are backwards compatible with\n",
    "[ASCII](https://en.wikipedia.org/wiki/ASCII), which gives the binary\n",
    "representation of 128 characters.\n",
    "\n",
    "Some of you, however, will want to use other characters (e.g., Chinese\n",
    "characters). To solve this there is\n",
    "[Unicode](https://en.wikipedia.org/wiki/Unicode) which assigns numbers to\n",
    "symbols, e.g., 041 is `'A'` and 03A3 is `'Σ'` (numbers starting with 0 are\n",
    "hexadecimal). Often non/beyond-ASCII characters are called Unicode characters.\n",
    "Unicode contains 1,114,112 characters, about 10\\% of which have been assigned.\n",
    "Unfortunately there are many ways used to map combinations of bits to Unicode\n",
    "symbols. The ones you are likely to encounter are called by Python _utf-8_,\n",
    "_utf-16_ and _latin-1_. _utf-8_ is the standard for Linux and Mac OS while both\n",
    "_utf-16_ and _latin-1_ are used by windows. If you use the wrong encoding,\n",
    "characters can appear wrong, sometimes change in number or Python could raise an\n",
    "exception. Lets see what happens when we open the file we just created with\n",
    "different encodings."
   ]
  },
  {
   "cell_type": "code",
   "execution_count": 21,
   "metadata": {
    "collapsed": false,
    "deletable": true,
    "editable": true
   },
   "outputs": [
    {
     "name": "stdout",
     "output_type": "stream",
     "text": [
      "This is with the correct encoding:\n",
      "A line\n",
      "Another line\n",
      "A line with a few unusual symbols ␡ ␛ ₠ ₡ ₢ ₣ ൠ\n",
      "\n",
      "This is with the wrong encoding:\n",
      "A line\n",
      "Another line\n",
      "A line with a few unusual symbols â¡ â â  â¡ â¢ â£ àµ \n",
      "\n"
     ]
    }
   ],
   "source": [
    "with open(example_text_file, encoding='utf-8') as f:\n",
    "    print(\"This is with the correct encoding:\")\n",
    "    print(f.read())\n",
    "\n",
    "with open(example_text_file, encoding='latin-1') as f:\n",
    "    print(\"This is with the wrong encoding:\")\n",
    "    print(f.read())"
   ]
  },
  {
   "cell_type": "markdown",
   "metadata": {
    "deletable": true,
    "editable": true
   },
   "source": [
    "Notice that with _latin-1_ the unicode characters are mixed up and there are too\n",
    "many of them. You need to keep in mind encoding when obtaining text files.\n",
    "Determining the encoding can sometime involve substantial work.\n",
    "\n",
    "## PDF\n",
    "\n",
    "Another common way text will be stored is in a PDF file. First we will download\n",
    "a pdf in Python. To do that lets grab a chapter from\n",
    "_Speech and Language Processing_, chapter 21 is on Information Extraction which\n",
    "seems apt. It is stored as a pdf at [https://web.stanford.edu/~jurafsky/slp3/21.\n",
    "pdf](https://web.stanford.edu/~jurafsky/slp3/21.pdf) although we are downloading from a copy just in case Jurafsky changes their website."
   ]
  },
  {
   "cell_type": "code",
   "execution_count": 22,
   "metadata": {
    "collapsed": false,
    "deletable": true,
    "editable": true
   },
   "outputs": [
    {
     "name": "stdout",
     "output_type": "stream",
     "text": [
      "%PDF-1.5\n",
      "%����\n",
      "97 0 obj\n",
      "<<\n",
      "/Length 2988      \n",
      "/Filter /FlateDecode\n",
      ">>\n",
      "stream\n",
      "xڝYY��\u0011~�_��T,U�\u0018\u0012����f<{����z\\[)o\u001e",
      "(\n",
      "���!�������n��4�J�/b��\u0000\u001a}7�9\u0007�s������o���I�,�|�a�d�\u001b\u0002J��M��y�9?�~<i]\u001c",
      "כHE���\t�}�\u001c",
      "���e��k\u000b",
      "��esp�\u001bߋ�շyS�Jf�\u001b�|�?>��\u0006�׺\u0017�+��y7����==w��8����\u0013\u0004�M<�x�\n",
      "����`?���Q�\u001f*gs�����!���Wn\u001c",
      "\u0005\u0010\u0002\u0013)Ϗ�����\u000f�\u0004a�*?p6�\u001bƑ\u00102?��N����wӍq�A�ڽ|h��z�;\u0019%���pƍg�๑���s����\u0014�9��fQ��\u0006�����$����pw��Շ���W[�\u0016��f��{\u001e",
      "�M��M�(�M=gã�����l�?��r��s|Ǐ}׏B��o�:E}�\u0013���N\u0006>b�t����{:�M2�\u001d",
      "\u0015�I�����\r",
      "\u0002߉\u0003�M�Q�k�k�tW�C�6덂\n",
      "�\u001d",
      "����\u0005�拍���Y\u001c",
      "��o乤�8s\u0019���Fy-��\u0005���g��vGvM ����3���}���[+o�y�\u001b\u0018�\u000fשnٰ|7N\u0012\u00076\u0003U\u001aŽ�f��\u0019��l����D�\u000eD��|[i�n��MY��f�3��W�n`�>���X!~lڧ��>��K�7�\n",
      "�_�d��el\u0007}��g�S�.4:���ve�WƟ�0�.�y���V�\u0010j��\u0018�\u0016���bh��i�)�uW������[\u0007�jGnG�\u0002T,?9�u]\u0013\u000f��-\u00041�s��7e\u0005�\u001d",
      "�.��XU%�ޗ5��[��²�؅\u000b",
      "���4w�W\u0012��N��淼)��R�MT,�,F4��o�\b>n\r",
      "��\u000fP�z\u0013�\u0018��\u0007���s;\n",
      "*��\\��o^=���\u001c",
      "���\u0010\u001ad�8��P��P����\u0018@p��^(�&N�[L�d)�H�\u0012����a����\u001awf��\u0011!\u001d",
      "�\b�톁�$(dI\u0011f��h�4���\u0015;J,O���X\\�u�$\u000ex\u0006ʗ\r",
      "�zx����\u0005�t��|ӎ�\u000e��n\u001d",
      "��\u0010�V{�A\u0011v@�Wt:�!bc!*�\u0013��>�\u0014\u000e���΋�@R\u001a�\bQ`��_�A���Aл�y\u001d",
      "G+J���z[��\\[G�\u00041-\u0019r��U�m�A�|��'�2\n"
     ]
    }
   ],
   "source": [
    "#information_extraction_pdf = 'https://github.com/KnowledgeLab/content_analysis/raw/data/21.pdf'\n",
    "\n",
    "infoExtractionRequest = requests.get(information_extraction_pdf, stream=True)\n",
    "print(infoExtractionRequest.text[:1000])"
   ]
  },
  {
   "cell_type": "markdown",
   "metadata": {
    "deletable": true,
    "editable": true
   },
   "source": [
    "It says `'pdf'`, so thats a good sign. The rest though looks like we are having\n",
    "issues with an encoding. The random characters are not caused by our encoding\n",
    "being wrong, however. They are cause by there not being an encoding for those\n",
    "parts at all. PDFs are nominally binary files, meaning there are sections of\n",
    "binary that are specific to pdf and nothing else so you need something that\n",
    "knows about pdf to read them. To do that we will be using\n",
    "[`PyPDF2`](https://github.com/mstamy2/PyPDF2), a PDF processing library for\n",
    "Python 3.\n",
    "\n",
    "\n",
    "Because PDFs are a very complicated file format pdfminer requires a large amount\n",
    "of boilerplate code to extract text, we have written a function that takes in an\n",
    "open PDF file and returns the text so you don't have to."
   ]
  },
  {
   "cell_type": "code",
   "execution_count": 23,
   "metadata": {
    "collapsed": true,
    "deletable": true,
    "editable": true
   },
   "outputs": [],
   "source": [
    "def readPDF(pdfFile):\n",
    "    #Based on code from http://stackoverflow.com/a/20905381/4955164\n",
    "    #Using utf-8, if there are a bunch of random symbols try changing this\n",
    "    codec = 'utf-8'\n",
    "    rsrcmgr = pdfminer.pdfinterp.PDFResourceManager()\n",
    "    retstr = io.StringIO()\n",
    "    layoutParams = pdfminer.layout.LAParams()\n",
    "    device = pdfminer.converter.TextConverter(rsrcmgr, retstr, laparams = layoutParams, codec = codec)\n",
    "    #We need a device and an interpreter\n",
    "    interpreter = pdfminer.pdfinterp.PDFPageInterpreter(rsrcmgr, device)\n",
    "    password = ''\n",
    "    maxpages = 0\n",
    "    caching = True\n",
    "    pagenos=set()\n",
    "    for page in pdfminer.pdfpage.PDFPage.get_pages(pdfFile, pagenos, maxpages=maxpages, password=password,caching=caching, check_extractable=True):\n",
    "        interpreter.process_page(page)\n",
    "    device.close()\n",
    "    returnedString = retstr.getvalue()\n",
    "    retstr.close()\n",
    "    return returnedString"
   ]
  },
  {
   "cell_type": "markdown",
   "metadata": {
    "deletable": true,
    "editable": true
   },
   "source": [
    "First we need to take the response object and convert it into a 'file like'\n",
    "object so that pdfminer can read it. To do this we will use `io`'s `BytesIO`."
   ]
  },
  {
   "cell_type": "code",
   "execution_count": 24,
   "metadata": {
    "collapsed": true,
    "deletable": true,
    "editable": true
   },
   "outputs": [],
   "source": [
    "infoExtractionBytes = io.BytesIO(infoExtractionRequest.content)"
   ]
  },
  {
   "cell_type": "markdown",
   "metadata": {
    "deletable": true,
    "editable": true
   },
   "source": [
    "Now we can give it to pdfminer."
   ]
  },
  {
   "cell_type": "code",
   "execution_count": 25,
   "metadata": {
    "collapsed": false,
    "deletable": true,
    "editable": true
   },
   "outputs": [
    {
     "name": "stdout",
     "output_type": "stream",
     "text": [
      "Speech and Language Processing. Daniel Jurafsky & James H. Martin.\n",
      "rights reserved.\n",
      "\n",
      "Draft of November 7, 2016.\n",
      "\n",
      "Copyright c(cid:13) 2016.\n",
      "\n",
      "All\n",
      "\n",
      "CHAPTER\n",
      "\n",
      "21 Information Extraction\n",
      "\n",
      "I am the very model of a modern Major-General,\n",
      "I’ve information vegetable, animal, and mineral,\n",
      "I know the kings of England, and I quote the ﬁghts historical\n",
      "From Marathon to Waterloo, in order categorical...\n",
      "Gilbert and Sullivan, Pirates of Penzance\n",
      "\n",
      "Imagine that you are an analyst with an investment ﬁrm that tracks airline stocks.\n",
      "You’re given the task of determining the relationship (if any) between airline an-\n",
      "nouncements of fare increases and the behavior of their stocks the next day. His-\n",
      "torical data about stock prices is easy to come by, but what about the airline an-\n",
      "nouncements? You will need to know at least the name of the airline, the nature of\n",
      "the proposed fare hike, the dates of the announcement, and possibly the response of\n",
      "other airlines. Fortunately, these can be all found in news articles \n"
     ]
    }
   ],
   "source": [
    "print(readPDF(infoExtractionBytes)[:1000])"
   ]
  },
  {
   "cell_type": "markdown",
   "metadata": {
    "deletable": true,
    "editable": true
   },
   "source": [
    "From here we can either look at the full text or fiddle with our PDF reader and\n",
    "get more information about individual blocks of text.\n",
    "\n",
    "## Word Docs\n",
    "\n",
    "The other type of document you are likely to encounter is the `.docx`, these are\n",
    "actually a version of [XML](https://en.wikipedia.org/wiki/Office_Open_XML), just\n",
    "like HTML, and like HTML we will use a specialized parser.\n",
    "\n",
    "For this class we will use [`python-docx`](https://python-\n",
    "docx.readthedocs.io/en/latest/) which provides a nice simple interface for\n",
    "reading `.docx` files"
   ]
  },
  {
   "cell_type": "code",
   "execution_count": 26,
   "metadata": {
    "collapsed": false,
    "deletable": true,
    "editable": true
   },
   "outputs": [
    {
     "name": "stdout",
     "output_type": "stream",
     "text": [
      "Week 1 - Retreiving and Preparing Text for Machines\n",
      "This week, we begin by \"begging, borrowing and stealing\" text from several contexts of human communication (e.g., PDFs, HTML, Word) and preparing it for machines to \"read\" and analyze. This notebook outlines scraping text from the web, from images, PDF and Word documents. Then we detail \"spidering\" or walking through hyperlinks to build samples of online content, and using APIs, Application Programming Interfaces, provided by webservices to access their content. Along the way, we will use regular expressions, outlined in the reading, to remove unwanted formatting and ornamentation. Finally, we discuss various text encodings, filtering and data structures in which text can be placed for analysis.\n",
      "For this notebook we will be using the following packages:\n",
      "#All these packages need to be installed from pip\n",
      "import requests #for http requests\n",
      "import bs4 #called `beautifulsoup4`, an html parser\n",
      "import pandas #gives us DataFrames\n",
      "import docx #reading MS doc files, install as `python-docx`\n",
      "import PIL.Image #called `pillow`, an image processing library\n",
      "import pytesseract #an interface to Tesseract, you will need Tesseract\n",
      "\n",
      "#Stuff for pdfs\n",
      "#Install as `pdfminer2`\n",
      "import pdfminer.pdfinterp\n",
      "import pdfminer.converter\n",
      "import pdfminer.layout\n",
      "import pdfminer.pdfpage\n",
      "\n",
      "#These come with Python\n",
      "import re #for regexs\n",
      "import urllib.parse #For joining urls\n",
      "import io #for making http requests look like files\n",
      "import json #For Tumblr API responses\n",
      "import os.path #For checking if files exist\n",
      "import os #For making directories\n",
      "We will also be working on the following files/urls\n",
      "wikipedia_base_url = 'https://en.wikipedia.org'\n",
      "wikipedia_content_analysis = 'https://en.wikipedia.org/wiki/Content_analysis'\n",
      "content_analysis_save = 'wikipedia_content_analysis.html'\n",
      "example_text_file = 'sometextfile.txt'\n",
      "information_extraction_pdf = 'https://github.com/KnowledgeLab/content_analysis/raw/data/21.pdf'\n",
      "\n",
      "ocr_file = 'data/tesseractTest.png'\n",
      "Scraping\n"
     ]
    }
   ],
   "source": [
    "#example_docx = 'https://github.com/KnowledgeLab/content_analysis/raw/data/example_doc.docx'\n",
    "\n",
    "r = requests.get(example_docx, stream=True)\n",
    "d = docx.Document(io.BytesIO(r.content))\n",
    "for paragraph in d.paragraphs[:7]:\n",
    "    print(paragraph.text)"
   ]
  },
  {
   "cell_type": "markdown",
   "metadata": {
    "deletable": true,
    "editable": true
   },
   "source": [
    "This procedure uses the `io.BytesIO` class again, since `docx.Document` expects\n",
    "a file. Another way to do it is to save the document to a file and then read it\n",
    "like any other file. If we do this we can either delete the file afterwords, or\n",
    "save it and avoid downloading the following time."
   ]
  },
  {
   "cell_type": "code",
   "execution_count": 27,
   "metadata": {
    "collapsed": true,
    "deletable": true,
    "editable": true
   },
   "outputs": [],
   "source": [
    "def downloadIfNeeded(targetURL, outputFile, **openkwargs):\n",
    "    if not os.path.isfile(outputFile):\n",
    "        outputDir = os.path.dirname(outputFile)\n",
    "        #This function is a more general os.mkdir()\n",
    "        os.makedirs(outputDir, exist_ok = True)\n",
    "        r = requests.get(targetURL, stream=True)\n",
    "        #Using a closure like this is generally better than having to\n",
    "        #remember to close the file. There are ways to make this function\n",
    "        #work as a closure too\n",
    "        with open(outputFile, 'wb') as f:\n",
    "            f.write(r.content)\n",
    "    return open(outputFile, **openkwargs)"
   ]
  },
  {
   "cell_type": "markdown",
   "metadata": {
    "deletable": true,
    "editable": true
   },
   "source": [
    "This function will download, save and open `outputFile` as `outputFile` or just\n",
    "open it if `outputFile` exists. By default `open()` will open the file as read\n",
    "only text with the local encoding, which may cause issues if its not a text\n",
    "file. This next cell will raise an error if run."
   ]
  },
  {
   "cell_type": "code",
   "execution_count": 28,
   "metadata": {
    "collapsed": false,
    "deletable": true,
    "editable": true
   },
   "outputs": [],
   "source": [
    "#d = docx.Document(downloadIfNeeded(example_docx, example_docx_save))"
   ]
  },
  {
   "cell_type": "markdown",
   "metadata": {
    "deletable": true,
    "editable": true
   },
   "source": [
    "We need to tell `open()` to read in binary mode (`'rb'`), this is why we added\n",
    "`**openkwargs`, this allows us to pass any keyword arguments (kwargs) from\n",
    "`downloadIfNeeded` to `open()`."
   ]
  },
  {
   "cell_type": "code",
   "execution_count": 29,
   "metadata": {
    "collapsed": false,
    "deletable": true,
    "editable": true
   },
   "outputs": [
    {
     "name": "stdout",
     "output_type": "stream",
     "text": [
      "Week 1 - Retreiving and Preparing Text for Machines\n",
      "This week, we begin by \"begging, borrowing and stealing\" text from several contexts of human communication (e.g., PDFs, HTML, Word) and preparing it for machines to \"read\" and analyze. This notebook outlines scraping text from the web, from images, PDF and Word documents. Then we detail \"spidering\" or walking through hyperlinks to build samples of online content, and using APIs, Application Programming Interfaces, provided by webservices to access their content. Along the way, we will use regular expressions, outlined in the reading, to remove unwanted formatting and ornamentation. Finally, we discuss various text encodings, filtering and data structures in which text can be placed for analysis.\n",
      "For this notebook we will be using the following packages:\n",
      "#All these packages need to be installed from pip\n",
      "import requests #for http requests\n",
      "import bs4 #called `beautifulsoup4`, an html parser\n",
      "import pandas #gives us DataFrames\n",
      "import docx #reading MS doc files, install as `python-docx`\n",
      "import PIL.Image #called `pillow`, an image processing library\n",
      "import pytesseract #an interface to Tesseract, you will need Tesseract\n",
      "\n",
      "#Stuff for pdfs\n",
      "#Install as `pdfminer2`\n",
      "import pdfminer.pdfinterp\n",
      "import pdfminer.converter\n",
      "import pdfminer.layout\n",
      "import pdfminer.pdfpage\n",
      "\n",
      "#These come with Python\n",
      "import re #for regexs\n",
      "import urllib.parse #For joining urls\n",
      "import io #for making http requests look like files\n",
      "import json #For Tumblr API responses\n",
      "import os.path #For checking if files exist\n",
      "import os #For making directories\n",
      "We will also be working on the following files/urls\n",
      "wikipedia_base_url = 'https://en.wikipedia.org'\n",
      "wikipedia_content_analysis = 'https://en.wikipedia.org/wiki/Content_analysis'\n",
      "content_analysis_save = 'wikipedia_content_analysis.html'\n",
      "example_text_file = 'sometextfile.txt'\n",
      "information_extraction_pdf = 'https://github.com/KnowledgeLab/content_analysis/raw/data/21.pdf'\n",
      "\n",
      "ocr_file = 'data/tesseractTest.png'\n",
      "Scraping\n"
     ]
    }
   ],
   "source": [
    "d = docx.Document(downloadIfNeeded(example_docx, example_docx_save, mode = 'rb'))\n",
    "for paragraph in d.paragraphs[:7]:\n",
    "    print(paragraph.text)"
   ]
  },
  {
   "cell_type": "markdown",
   "metadata": {
    "deletable": true,
    "editable": true
   },
   "source": [
    "Now we can read the file with `docx.Document` and not have to wait for it to be\n",
    "downloaded every time."
   ]
  },
  {
   "cell_type": "markdown",
   "metadata": {
    "deletable": true,
    "editable": true
   },
   "source": [
    "# Ensemble Methods\n",
    "\n",
    "We will now look at some ensemble classification methods. To start with lets us another API to get our data, the reddit API. There is a Python package that makes using the API simple called `praw`, but it requires an account. The data required are in `data/redditOAUTH.json` and we can load it from the file. Our targeted subreddits are: 'talesfromtechsupport', 'badroommates', 'weeabootales' and 'relationships'. "
   ]
  },
  {
   "cell_type": "code",
   "execution_count": 30,
   "metadata": {
    "collapsed": false,
    "deletable": true,
    "editable": true
   },
   "outputs": [],
   "source": [
    "targets = ['talesfromtechsupport', 'badroommates', 'weeabootales', 'relationships']"
   ]
  },
  {
   "cell_type": "markdown",
   "metadata": {
    "deletable": true,
    "editable": true
   },
   "source": [
    "To download the data we will define a function:"
   ]
  },
  {
   "cell_type": "code",
   "execution_count": 31,
   "metadata": {
    "collapsed": true,
    "deletable": true,
    "editable": true
   },
   "outputs": [],
   "source": [
    "def getTopN(n, name, reddit):\n",
    "    sub = reddit.subreddit(name)\n",
    "    subIter = sub.top('all', limit=None)\n",
    "\n",
    "    dfDict = {\n",
    "        'text' : [],\n",
    "        'score' : [],\n",
    "        'author' : [],\n",
    "        'title' : [],\n",
    "        'url' : [],\n",
    "        'over_18' : [],\n",
    "        'subreddit' : [],\n",
    "    }\n",
    "    for i in range(n):\n",
    "        try:\n",
    "            post = next(subIter)\n",
    "            while post.stickied or post.media is not None or 'reddit.com/r/{}'.format(name) not in post.url:\n",
    "                post = next(subIter)\n",
    "        except StopIteration:\n",
    "            break\n",
    "        print(\"Getting {}: {}\".format(name, i))\n",
    "        dfDict['text'].append(post.selftext.replace('\\n', ' '))\n",
    "        dfDict['score'].append(post.score)\n",
    "        try:\n",
    "            dfDict['author'].append(post.author.name)\n",
    "        except AttributeError:\n",
    "            dfDict['author'].append('[deleted]')\n",
    "        dfDict['title'].append(post.title)\n",
    "        dfDict['url'].append(post.url)\n",
    "        dfDict['over_18'].append(post.over_18)\n",
    "        dfDict['subreddit'].append(post.subreddit.title)\n",
    "    return pandas.DataFrame(dfDict)"
   ]
  },
  {
   "cell_type": "markdown",
   "metadata": {
    "deletable": true,
    "editable": true
   },
   "source": [
    "Then we can call it, but each story will take about a second, due to reddit's rate limiting, so we have the data already downloaded for you. If you want want to download it just change `download = False` to `Download = True` "
   ]
  },
  {
   "cell_type": "code",
   "execution_count": 32,
   "metadata": {
    "collapsed": false,
    "deletable": true,
    "editable": true
   },
   "outputs": [],
   "source": [
    "download = False\n",
    "if download:\n",
    "    with open('data/redditOAUTH.json') as f:\n",
    "        reddit = praw.Reddit(**json.loads(f.read()))\n",
    "\n",
    "    df = pandas.DataFrame()\n",
    "    for target in targets:\n",
    "        df = df.append(getTopN(400, target, reddit), ignore_index=True)\n",
    "        df.to_csv('redditDat.csv')\n",
    "        \n",
    "#Load and drop a couple missing values\n",
    "redditDf = pandas.read_csv('data/reddit.csv', index_col = 0).dropna()"
   ]
  },
  {
   "cell_type": "markdown",
   "metadata": {},
   "source": [
    "Since we are going to be doing a few things that use randomness we need to set the seed"
   ]
  },
  {
   "cell_type": "code",
   "execution_count": 33,
   "metadata": {
    "collapsed": true
   },
   "outputs": [],
   "source": [
    "np.random.seed(seed=1234)"
   ]
  },
  {
   "cell_type": "markdown",
   "metadata": {
    "deletable": true,
    "editable": true
   },
   "source": [
    "Since this is text data we need to convert it into a vector, to start with we will convert the strings into lists of strings and clean it, called tokenizing and stemming, respectively. To do this we can use the following function based on nltk:"
   ]
  },
  {
   "cell_type": "code",
   "execution_count": 34,
   "metadata": {
    "collapsed": false,
    "deletable": true,
    "editable": true
   },
   "outputs": [],
   "source": [
    "def normlizeTokens(tokenLst, stopwordLst = nltk.corpus.stopwords.words('english'), stemmer = nltk.stem.snowball.SnowballStemmer('english'), lemmer = None, vocab = None):\n",
    "    #We can use a generator here as we just need to iterate over it\n",
    "\n",
    "    #Lowering the case and removing non-words\n",
    "    workingIter = (w.lower() for w in tokenLst if w.isalpha())\n",
    "\n",
    "    #Now we can use the semmer, if provided\n",
    "    if stemmer is not None:\n",
    "        workingIter = (stemmer.stem(w) for w in workingIter)\n",
    "\n",
    "    #And the lemmer\n",
    "    if lemmer is not None:\n",
    "        workingIter = (lemmer.lemmatize(w) for w in workingIter)\n",
    "\n",
    "    #And remove the stopwords\n",
    "    if stopwordLst is not None:\n",
    "        workingIter = (w for w in workingIter if w not in stopwordLst)\n",
    "        \n",
    "    #We will return a list with the stopwords removed\n",
    "    if vocab is not None:\n",
    "        vocab_str = '|'.join(vocab)\n",
    "        workingIter = (w for w in workingIter if re.match(vocab_str, w))\n",
    "    \n",
    "    return list(workingIter)"
   ]
  },
  {
   "cell_type": "code",
   "execution_count": 35,
   "metadata": {
    "collapsed": false,
    "deletable": true,
    "editable": true
   },
   "outputs": [],
   "source": [
    "#tokenize\n",
    "redditDf['tokenized_text'] = redditDf['text'].apply(lambda x: nltk.word_tokenize(x))\n",
    "\n",
    "#Normalize\n",
    "redditDf['normalized_text'] = redditDf['tokenized_text'].apply(lambda x: normlizeTokens(x))"
   ]
  },
  {
   "cell_type": "markdown",
   "metadata": {
    "deletable": true,
    "editable": true
   },
   "source": [
    "Now that we have nice lists of string we stinng need to convert them into vectors, we could just count each word's number of occurneces and use that, but that leads to very sparse vectors. So we will use [term frequency–inverse document frequency](https://en.wikipedia.org/wiki/Tf%E2%80%93idf)(TF-IDF) which uses the frequencies of occurnece in the lists diveided by the total number of occurneces. We will also remove words with too high or too low frequencies so that the vectors are dense. "
   ]
  },
  {
   "cell_type": "code",
   "execution_count": 36,
   "metadata": {
    "collapsed": false,
    "deletable": true,
    "editable": true
   },
   "outputs": [
    {
     "data": {
      "text/plain": [
       "0    [[0.0, 0.0, 0.0, 0.0, 0.0, 0.0, 0.066346072181...\n",
       "1    [[0.0, 0.0, 0.0, 0.0, 0.0, 0.0, 0.0, 0.0, 0.0,...\n",
       "2    [[0.0, 0.0, 0.0, 0.0, 0.0, 0.0, 0.0, 0.0, 0.0,...\n",
       "3    [[0.0, 0.0, 0.0, 0.0, 0.0, 0.0, 0.0, 0.0, 0.0,...\n",
       "4    [[0.0, 0.0, 0.0, 0.0, 0.0, 0.0, 0.0, 0.0, 0.0,...\n",
       "Name: tfVect, dtype: object"
      ]
     },
     "execution_count": 36,
     "metadata": {},
     "output_type": "execute_result"
    }
   ],
   "source": [
    "redditTFVectorizer = sklearn.feature_extraction.text.TfidfVectorizer(max_df=0.5, min_df=3, stop_words='english', norm='l2')\n",
    "redditTFVects = redditTFVectorizer.fit_transform([' '.join(l) for l in redditDf['normalized_text']])\n",
    "redditDf['tfVect'] = [np.array(v) for v in redditTFVects.todense()]\n",
    "redditDf['tfVect'][:5]"
   ]
  },
  {
   "cell_type": "markdown",
   "metadata": {
    "deletable": true,
    "editable": true
   },
   "source": [
    "We now have a collection of vectors to work on. We now need to create a testing set and a trainign set, this function will let us do that:"
   ]
  },
  {
   "cell_type": "code",
   "execution_count": 37,
   "metadata": {
    "collapsed": false,
    "deletable": true,
    "editable": true
   },
   "outputs": [],
   "source": [
    "def getholdOut(df, split = .7):\n",
    "    sf = df.reindex(np.random.permutation(df.index))\n",
    "    train = sf[:int(len(df) * split)].copy()\n",
    "    train.index = range(len(train))\n",
    "    test = sf[int(len(df) * split):].copy()\n",
    "    test.index = range(len(test))\n",
    "    return train, test\n",
    "redditDfTraining, redditDfTesting = getholdOut(redditDf)"
   ]
  },
  {
   "cell_type": "markdown",
   "metadata": {
    "deletable": true,
    "editable": true
   },
   "source": [
    "Now we can look at a few models, lets start with a decision tree\n",
    "\n",
    "All the models in sklearn follow the same usage pattern, first you specify your model"
   ]
  },
  {
   "cell_type": "code",
   "execution_count": 38,
   "metadata": {
    "collapsed": true,
    "deletable": true,
    "editable": true
   },
   "outputs": [],
   "source": [
    "decisionTree = sklearn.tree.DecisionTreeClassifier()"
   ]
  },
  {
   "cell_type": "markdown",
   "metadata": {
    "deletable": true,
    "editable": true
   },
   "source": [
    "Then we can provide the model with the traning data, in this case we need two things, the vectors and the classes:"
   ]
  },
  {
   "cell_type": "code",
   "execution_count": 39,
   "metadata": {
    "collapsed": false,
    "deletable": true,
    "editable": true
   },
   "outputs": [
    {
     "data": {
      "text/plain": [
       "DecisionTreeClassifier(class_weight=None, criterion='gini', max_depth=None,\n",
       "            max_features=None, max_leaf_nodes=None,\n",
       "            min_impurity_split=1e-07, min_samples_leaf=1,\n",
       "            min_samples_split=2, min_weight_fraction_leaf=0.0,\n",
       "            presort=False, random_state=None, splitter='best')"
      ]
     },
     "execution_count": 39,
     "metadata": {},
     "output_type": "execute_result"
    }
   ],
   "source": [
    "decisionTree.fit(np.stack(redditDfTraining['tfVect'], axis=1)[0], redditDfTraining['subreddit'])"
   ]
  },
  {
   "cell_type": "markdown",
   "metadata": {
    "deletable": true,
    "editable": true
   },
   "source": [
    "We now have a fully trained decision tree, lets test it on one of our testing data:"
   ]
  },
  {
   "cell_type": "code",
   "execution_count": 40,
   "metadata": {
    "collapsed": false,
    "deletable": true,
    "editable": true
   },
   "outputs": [
    {
     "name": "stdout",
     "output_type": "stream",
     "text": [
      "author                                                     kidder952\n",
      "over_18                                                        False\n",
      "score                                                            101\n",
      "subreddit          Weeaboo Tales: stories about the extreme fans ...\n",
      "text               This past weekend I had attended a rather larg...\n",
      "title                                                Body Pillow Guy\n",
      "url                https://www.reddit.com/r/weeabootales/comments...\n",
      "tokenized_text     [This, past, weekend, I, had, attended, a, rat...\n",
      "normalized_text    [past, weekend, attend, rather, larg, anim, co...\n",
      "tfVect             [[0.0, 0.0, 0.0, 0.0, 0.0, 0.0, 0.0, 0.0, 0.0,...\n",
      "Name: 10, dtype: object\n",
      "Is predicted to be:\n",
      "['Weeaboo Tales: stories about the extreme fans of japanese culture']\n"
     ]
    }
   ],
   "source": [
    "targetRow = 10\n",
    "print(redditDfTesting.iloc[targetRow])\n",
    "print(\"Is predicted to be:\")\n",
    "print(decisionTree.predict(redditDfTesting['tfVect'][targetRow]))"
   ]
  },
  {
   "cell_type": "markdown",
   "metadata": {},
   "source": [
    "We can also get the model's probabilties for each class, it's very boring for trees"
   ]
  },
  {
   "cell_type": "code",
   "execution_count": 41,
   "metadata": {
    "collapsed": false
   },
   "outputs": [
    {
     "data": {
      "text/plain": [
       "array([[ 0.,  0.,  0.,  1.]])"
      ]
     },
     "execution_count": 41,
     "metadata": {},
     "output_type": "execute_result"
    }
   ],
   "source": [
    "decisionTree.predict_proba(redditDfTesting['tfVect'][targetRow])"
   ]
  },
  {
   "cell_type": "markdown",
   "metadata": {
    "deletable": true,
    "editable": true
   },
   "source": [
    "Looking at only a single value is OK, bu what we really want to do is look at all of the testing set, tow do this we first need to get all the predictions"
   ]
  },
  {
   "cell_type": "code",
   "execution_count": 42,
   "metadata": {
    "collapsed": false,
    "deletable": true,
    "editable": true
   },
   "outputs": [],
   "source": [
    "redditDfTesting['predictionsDT'] = decisionTree.predict(np.stack(redditDfTesting['tfVect'], axis=1)[0])"
   ]
  },
  {
   "cell_type": "markdown",
   "metadata": {
    "deletable": true,
    "editable": true
   },
   "source": [
    "Then we can look at a couple metrics"
   ]
  },
  {
   "cell_type": "code",
   "execution_count": 43,
   "metadata": {
    "collapsed": false,
    "deletable": true,
    "editable": true
   },
   "outputs": [
    {
     "name": "stdout",
     "output_type": "stream",
     "text": [
      "0.856888350624 precision\n",
      "0.85625 recall\n",
      "0.856481093798 F-1 measure\n"
     ]
    }
   ],
   "source": [
    "print(sklearn.metrics.precision_score(redditDfTesting['subreddit'], redditDfTesting['predictionsDT'], average = 'weighted'), 'precision')\n",
    "print(sklearn.metrics.recall_score(redditDfTesting['subreddit'], redditDfTesting['predictionsDT'], average = 'weighted'), 'recall')\n",
    "print(sklearn.metrics.f1_score(redditDfTesting['subreddit'], redditDfTesting['predictionsDT'], average = 'weighted'), 'F-1 measure')"
   ]
  },
  {
   "cell_type": "markdown",
   "metadata": {
    "deletable": true,
    "editable": true
   },
   "source": [
    "The confusion matrix is:"
   ]
  },
  {
   "cell_type": "code",
   "execution_count": 44,
   "metadata": {
    "collapsed": false,
    "deletable": true,
    "editable": true
   },
   "outputs": [
    {
     "data": {
      "image/png": "[encoded data removed]",
      "text/plain": [
       "<matplotlib.figure.Figure at 0x113b292e8>"
      ]
     },
     "metadata": {},
     "output_type": "display_data"
    }
   ],
   "source": [
    "mat = sklearn.metrics.confusion_matrix(redditDfTesting['subreddit'], redditDfTesting['predictionsDT'])\n",
    "seaborn.heatmap(mat.T, square=True, annot=True, fmt='d', cbar=False,\n",
    "                xticklabels=targets, yticklabels=targets)\n",
    "plt.xlabel('true label')\n",
    "plt.ylabel('predicted label')\n",
    "plt.show()"
   ]
  },
  {
   "cell_type": "markdown",
   "metadata": {},
   "source": [
    "We can also look at the Receiver operating characteristic curve, but that only makes sense for a binary classifier so we will look at each subreddit separately and see if the model classified the stories as in or out correctly. This is a bit complicated so I've defined a function to do it all."
   ]
  },
  {
   "cell_type": "code",
   "execution_count": 45,
   "metadata": {
    "collapsed": false
   },
   "outputs": [],
   "source": [
    "def multiROC(testingDF, model, truthColumn = 'subreddit', xColumn = 'tfVect'):\n",
    "    #By making the column names variables we can easily use this function on new data sets\n",
    "    \n",
    "    #Get the names of each of the possible classes and the probabiltiess\n",
    "    classes = model.classes_\n",
    "    probs = decisionTree.predict_proba(np.stack(redditDfTesting[xColumn], axis=1)[0])\n",
    "    predictions = decisionTree.predict(np.stack(redditDfTesting[xColumn], axis=1)[0])\n",
    "    \n",
    "    #setup axis for plotting\n",
    "    fig, ax = plt.subplots()\n",
    "    \n",
    "    #We can return the AUC values, in case they are useful\n",
    "    aucVals = []\n",
    "    for classIndex, className in enumerate(classes):\n",
    "        \n",
    "        #Setup binary classes\n",
    "        truths = [1 if c == className else 0 for c in testingDF[truthColumn]]\n",
    "        predict = [1 if c == className else 0 for c in predictions]\n",
    "        scores = probs[:, classIndex]\n",
    "    \n",
    "        #Get the ROC curve\n",
    "        fpr, tpr, thresholds = sklearn.metrics.roc_curve(truths, scores)\n",
    "        auc = sklearn.metrics.auc(fpr, tpr)\n",
    "        aucVals.append(auc)\n",
    "        \n",
    "        #Plot the class's line\n",
    "        ax.plot(fpr, tpr, label = \"{} (AUC ${:.3f}$)\".format(className.split(':')[0], auc))\n",
    "        \n",
    "    #Make the plot nice, then display it\n",
    "    ax.set_title('Receiver Operating Characteristics')\n",
    "    plt.plot([0,1], [0,1], color = 'k', linestyle='--')\n",
    "    ax.set_xlabel('False Positive Rate')\n",
    "    ax.set_ylabel('True Positive Rate')\n",
    "    ax.legend(loc = 'lower right')\n",
    "    plt.show()\n",
    "    plt.close()\n",
    "    return aucVals"
   ]
  },
  {
   "cell_type": "markdown",
   "metadata": {},
   "source": [
    "We can call the function like this:"
   ]
  },
  {
   "cell_type": "code",
   "execution_count": 46,
   "metadata": {
    "collapsed": false
   },
   "outputs": [
    {
     "data": {
      "image/png": "[encoded data removed]",
      "text/plain": [
       "<matplotlib.figure.Figure at 0x11a618358>"
      ]
     },
     "metadata": {},
     "output_type": "display_data"
    },
    {
     "data": {
      "text/plain": [
       "[0.90980773857695918,\n",
       " 0.87655863130423139,\n",
       " 0.90926759410801961,\n",
       " 0.92134094952710921]"
      ]
     },
     "execution_count": 46,
     "metadata": {},
     "output_type": "execute_result"
    }
   ],
   "source": [
    "multiROC(redditDfTesting, decisionTree)"
   ]
  },
  {
   "cell_type": "markdown",
   "metadata": {
    "deletable": true,
    "editable": true
   },
   "source": [
    "But can we do better?\n",
    "\n",
    "Lets look at random forests"
   ]
  },
  {
   "cell_type": "code",
   "execution_count": 47,
   "metadata": {
    "collapsed": true,
    "deletable": true,
    "editable": true
   },
   "outputs": [],
   "source": [
    "randomForest = sklearn.ensemble.RandomForestClassifier()"
   ]
  },
  {
   "cell_type": "markdown",
   "metadata": {
    "deletable": true,
    "editable": true
   },
   "source": [
    "Train it:"
   ]
  },
  {
   "cell_type": "code",
   "execution_count": 48,
   "metadata": {
    "collapsed": false,
    "deletable": true,
    "editable": true
   },
   "outputs": [
    {
     "data": {
      "text/plain": [
       "RandomForestClassifier(bootstrap=True, class_weight=None, criterion='gini',\n",
       "            max_depth=None, max_features='auto', max_leaf_nodes=None,\n",
       "            min_impurity_split=1e-07, min_samples_leaf=1,\n",
       "            min_samples_split=2, min_weight_fraction_leaf=0.0,\n",
       "            n_estimators=10, n_jobs=1, oob_score=False, random_state=None,\n",
       "            verbose=0, warm_start=False)"
      ]
     },
     "execution_count": 48,
     "metadata": {},
     "output_type": "execute_result"
    }
   ],
   "source": [
    "randomForest.fit(np.stack(redditDfTraining['tfVect'], axis=1)[0], redditDfTraining['subreddit'])"
   ]
  },
  {
   "cell_type": "markdown",
   "metadata": {
    "deletable": true,
    "editable": true
   },
   "source": [
    "Get predictions:"
   ]
  },
  {
   "cell_type": "code",
   "execution_count": 49,
   "metadata": {
    "collapsed": false,
    "deletable": true,
    "editable": true
   },
   "outputs": [],
   "source": [
    "redditDfTesting['predictionsRF'] = randomForest.predict(np.stack(redditDfTesting['tfVect'], axis=1)[0])"
   ]
  },
  {
   "cell_type": "markdown",
   "metadata": {
    "deletable": true,
    "editable": true
   },
   "source": [
    "And score them:"
   ]
  },
  {
   "cell_type": "code",
   "execution_count": 50,
   "metadata": {
    "collapsed": false,
    "deletable": true,
    "editable": true
   },
   "outputs": [
    {
     "name": "stdout",
     "output_type": "stream",
     "text": [
      "0.857035707802 precision\n",
      "0.854166666667 recall\n",
      "0.854637491664 F-1 measure\n"
     ]
    }
   ],
   "source": [
    "print(sklearn.metrics.precision_score(redditDfTesting['subreddit'], redditDfTesting['predictionsRF'], average = 'weighted'), 'precision')\n",
    "print(sklearn.metrics.recall_score(redditDfTesting['subreddit'], redditDfTesting['predictionsRF'], average = 'weighted'), 'recall')\n",
    "print(sklearn.metrics.f1_score(redditDfTesting['subreddit'], redditDfTesting['predictionsRF'], average = 'weighted'), 'F-1 measure')"
   ]
  },
  {
   "cell_type": "markdown",
   "metadata": {
    "deletable": true,
    "editable": true
   },
   "source": [
    "The confusion matrix is:"
   ]
  },
  {
   "cell_type": "code",
   "execution_count": 51,
   "metadata": {
    "collapsed": false,
    "deletable": true,
    "editable": true
   },
   "outputs": [
    {
     "data": {
      "image/png": "[encoded data removed]",
      "text/plain": [
       "<matplotlib.figure.Figure at 0x11a51b240>"
      ]
     },
     "metadata": {},
     "output_type": "display_data"
    }
   ],
   "source": [
    "mat = sklearn.metrics.confusion_matrix(redditDfTesting['subreddit'], redditDfTesting['predictionsRF'])\n",
    "seaborn.heatmap(mat.T, square=True, annot=True, fmt='d', cbar=False,\n",
    "                xticklabels=targets, yticklabels=targets)\n",
    "plt.xlabel('true label')\n",
    "plt.ylabel('predicted label')\n",
    "plt.show()"
   ]
  },
  {
   "cell_type": "markdown",
   "metadata": {},
   "source": [
    "The the ROC curves are:"
   ]
  },
  {
   "cell_type": "code",
   "execution_count": null,
   "metadata": {
    "collapsed": false
   },
   "outputs": [
    {
     "data": {
      "image/png": "[encoded data removed]",
      "text/plain": [
       "<matplotlib.figure.Figure at 0x11a652208>"
      ]
     },
     "metadata": {},
     "output_type": "display_data"
    },
    {
     "data": {
      "text/plain": [
       "[0.90980773857695918,\n",
       " 0.87655863130423139,\n",
       " 0.90926759410801961,\n",
       " 0.92134094952710921]"
      ]
     },
     "execution_count": 52,
     "metadata": {},
     "output_type": "execute_result"
    }
   ],
   "source": [
    "multiROC(redditDfTesting, randomForest)"
   ]
  },
  {
   "cell_type": "markdown",
   "metadata": {
    "deletable": true,
    "editable": true
   },
   "source": [
    "We can see that the random forest is a good bit better"
   ]
  },
  {
   "cell_type": "markdown",
   "metadata": {
    "deletable": true,
    "editable": true
   },
   "source": [
    "Lets look at boosting:"
   ]
  },
  {
   "cell_type": "code",
   "execution_count": null,
   "metadata": {
    "collapsed": false,
    "deletable": true,
    "editable": true
   },
   "outputs": [],
   "source": [
    "boosting = randomForest = sklearn.ensemble.GradientBoostingClassifier()\n",
    "boosting.fit(np.stack(redditDfTraining['tfVect'], axis=1)[0], redditDfTraining['subreddit'])"
   ]
  },
  {
   "cell_type": "markdown",
   "metadata": {
    "deletable": true,
    "editable": true
   },
   "source": [
    "get the predictions"
   ]
  },
  {
   "cell_type": "code",
   "execution_count": null,
   "metadata": {
    "collapsed": true,
    "deletable": true,
    "editable": true
   },
   "outputs": [],
   "source": [
    "redditDfTesting['predictionsBoost'] = boosting.predict(np.stack(redditDfTesting['tfVect'], axis=1)[0])"
   ]
  },
  {
   "cell_type": "markdown",
   "metadata": {
    "deletable": true,
    "editable": true
   },
   "source": [
    "And the scores:"
   ]
  },
  {
   "cell_type": "code",
   "execution_count": null,
   "metadata": {
    "collapsed": false,
    "deletable": true,
    "editable": true
   },
   "outputs": [],
   "source": [
    "print(sklearn.metrics.precision_score(redditDfTesting['subreddit'], redditDfTesting['predictionsBoost'], average = 'weighted'), 'precision')\n",
    "print(sklearn.metrics.recall_score(redditDfTesting['subreddit'], redditDfTesting['predictionsBoost'], average = 'weighted'), 'recall')\n",
    "print(sklearn.metrics.f1_score(redditDfTesting['subreddit'], redditDfTesting['predictionsBoost'], average = 'weighted'), 'F-1 measure')"
   ]
  },
  {
   "cell_type": "markdown",
   "metadata": {
    "deletable": true,
    "editable": true
   },
   "source": [
    "The confusion matrix is:"
   ]
  },
  {
   "cell_type": "code",
   "execution_count": null,
   "metadata": {
    "collapsed": false,
    "deletable": true,
    "editable": true
   },
   "outputs": [],
   "source": [
    "mat = sklearn.metrics.confusion_matrix(redditDfTesting['subreddit'], redditDfTesting['predictionsBoost'])\n",
    "seaborn.heatmap(mat.T, square=True, annot=True, fmt='d', cbar=False,\n",
    "                xticklabels=targets, yticklabels=targets)\n",
    "plt.xlabel('true label')\n",
    "plt.ylabel('predicted label')\n",
    "plt.show()"
   ]
  },
  {
   "cell_type": "markdown",
   "metadata": {},
   "source": [
    "The ROC curves are:"
   ]
  },
  {
   "cell_type": "code",
   "execution_count": null,
   "metadata": {
    "collapsed": false
   },
   "outputs": [],
   "source": [
    "multiROC(redditDfTesting, boosting)"
   ]
  },
  {
   "cell_type": "markdown",
   "metadata": {
    "deletable": true,
    "editable": true
   },
   "source": [
    "This takes a bit longer to train, but the results are better, what about a combining differnet classifiers with stacking?\n",
    "\n",
    "To do this we first selected the classifiers then look at their votes for the class, notice we are using three different styles, `LinearRegression` is a simple OLS and boosting our current best is commented out."
   ]
  },
  {
   "cell_type": "code",
   "execution_count": null,
   "metadata": {
    "collapsed": false,
    "deletable": true,
    "editable": true
   },
   "outputs": [],
   "source": [
    "classifiers = [\n",
    "    ('decisionTree', sklearn.tree.DecisionTreeClassifier()),\n",
    "    ('randomForest', sklearn.ensemble.RandomForestClassifier()),\n",
    "    ('lin', sklearn.linear_model.LinearRegression()),\n",
    "    #('boosting', sklearn.ensemble.GradientBoostingClassifier()),\n",
    "]\n",
    "\n",
    "stacking = sklearn.ensemble.VotingClassifier(classifiers)"
   ]
  },
  {
   "cell_type": "markdown",
   "metadata": {
    "deletable": true,
    "editable": true
   },
   "source": [
    "Now we can treat this classifiers the same as all the others"
   ]
  },
  {
   "cell_type": "code",
   "execution_count": null,
   "metadata": {
    "collapsed": false,
    "deletable": true,
    "editable": true
   },
   "outputs": [],
   "source": [
    "stacking.fit(np.stack(redditDfTraining['tfVect'], axis=1)[0], redditDfTraining['subreddit'])\n",
    "redditDfTesting['predictionsStacking'] = boosting.predict(np.stack(redditDfTesting['tfVect'], axis=1)[0])"
   ]
  },
  {
   "cell_type": "markdown",
   "metadata": {
    "deletable": true,
    "editable": true
   },
   "source": [
    "Get the scores:"
   ]
  },
  {
   "cell_type": "code",
   "execution_count": null,
   "metadata": {
    "collapsed": false,
    "deletable": true,
    "editable": true
   },
   "outputs": [],
   "source": [
    "print(sklearn.metrics.precision_score(redditDfTesting['subreddit'], redditDfTesting['predictionsStacking'], average = 'weighted'), 'precision')\n",
    "print(sklearn.metrics.recall_score(redditDfTesting['subreddit'], redditDfTesting['predictionsStacking'], average = 'weighted'), 'recall')\n",
    "print(sklearn.metrics.f1_score(redditDfTesting['subreddit'], redditDfTesting['predictionsStacking'], average = 'weighted'), 'F-1 measure')"
   ]
  },
  {
   "cell_type": "markdown",
   "metadata": {
    "deletable": true,
    "editable": true
   },
   "source": [
    "And the confusion matrix:"
   ]
  },
  {
   "cell_type": "code",
   "execution_count": null,
   "metadata": {
    "collapsed": false,
    "deletable": true,
    "editable": true
   },
   "outputs": [],
   "source": [
    "mat = sklearn.metrics.confusion_matrix(redditDfTesting['subreddit'], redditDfTesting['predictionsStacking'])\n",
    "seaborn.heatmap(mat.T, square=True, annot=True, fmt='d', cbar=False,\n",
    "                xticklabels=targets, yticklabels=targets)\n",
    "plt.xlabel('true label')\n",
    "plt.ylabel('predicted label')\n",
    "plt.show()"
   ]
  },
  {
   "cell_type": "markdown",
   "metadata": {
    "deletable": true,
    "editable": true
   },
   "source": [
    "The ROC curves:"
   ]
  },
  {
   "cell_type": "code",
   "execution_count": null,
   "metadata": {
    "collapsed": false,
    "deletable": true,
    "editable": true
   },
   "outputs": [],
   "source": [
    "multiROC(redditDfTesting, stacking)"
   ]
  },
  {
   "cell_type": "markdown",
   "metadata": {},
   "source": [
    "This is almost as good as boosting, and took much less time."
   ]
  },
  {
   "cell_type": "code",
   "execution_count": null,
   "metadata": {
    "collapsed": true
   },
   "outputs": [],
   "source": []
  }
 ],
 "metadata": {
  "kernelspec": {
   "display_name": "Python 3",
   "language": "python",
   "name": "python3"
  },
  "language_info": {
   "codemirror_mode": {
    "name": "ipython",
    "version": 3
   },
   "file_extension": ".py",
   "mimetype": "text/x-python",
   "name": "python",
   "nbconvert_exporter": "python",
   "pygments_lexer": "ipython3",
   "version": "3.5.1"
  }
 },
 "nbformat": 4,
 "nbformat_minor": 0
}
